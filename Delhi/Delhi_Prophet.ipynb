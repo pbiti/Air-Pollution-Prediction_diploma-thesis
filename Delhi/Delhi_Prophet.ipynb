{
 "cells": [
  {
   "cell_type": "code",
   "execution_count": 1,
   "metadata": {},
   "outputs": [],
   "source": [
    "#import libraries\n",
    "import pandas as pd\n",
    "import numpy as np\n",
    "import matplotlib.pyplot as plt\n",
    "import seaborn as sns\n",
    "import numpy as np, pandas as pd\n",
    "from fbprophet import Prophet\n",
    "import math\n",
    "from sklearn.metrics import mean_squared_error, mean_absolute_error\n",
    "from matplotlib import pyplot\n",
    "from pmdarima.arima.utils import ndiffs\n",
    "from statsmodels.tsa.stattools import adfuller\n",
    "\n",
    "import warnings\n",
    "warnings.filterwarnings(\"ignore\")"
   ]
  },
  {
   "cell_type": "code",
   "execution_count": 7,
   "metadata": {},
   "outputs": [],
   "source": [
    "#DATA PREPARATION FOR UNIVARIATE PROPHET MODEL\n",
    "\n",
    "#GATHER Delhi DATA FROM ALL AVAILABLE YEARS\n",
    "Delhi_Data = pd.read_csv('Delhi_data.csv')\n",
    "Delhi_Data.rename(columns = {Delhi_Data.columns[0]:'ds'}, inplace = True)\n",
    "\n",
    "#KEEP ONLY THE POLLUTANTS COLUMNS\n",
    "cols=['pm25', 'pm10', 'no2', 'o3', 'so2', 'ds']\n",
    "\n",
    "#MAKE VALUES NUMERIC\n",
    "Delhi_Data_uni = Delhi_Data.loc[:, Delhi_Data.columns.intersection(cols)]\n",
    "Delhi_Data_uni[['pm25', 'pm10', 'no2', 'o3', 'so2']] = Delhi_Data_uni[['pm25', 'pm10', 'no2', 'o3', 'so2']].apply(pd.to_numeric, errors='coerce')\n",
    "\n",
    "#FILL NAN VALUES\n",
    "Delhi_Data_uni = Delhi_Data_uni.iloc[1: , :]\n",
    "\n",
    "#SOME VALUES ARE EMPTY, BUT NOT RECOGNIZED AS NAN. REPLACE EMPTY VALUES WITH NAN TO FILL THEM LATER\n",
    "Delhi_Data_uni = Delhi_Data_uni.replace(r'^\\s*$', np.nan, regex=True)\n",
    "Delhi_Data_uni = Delhi_Data_uni.fillna(method='ffill')\n",
    "Delhi_Data_uni = Delhi_Data_uni.fillna(method='bfill')\n",
    "\n",
    "#REMOVE DUPLICATE VALUES\n",
    "Delhi_Data_uni = Delhi_Data_uni[~Delhi_Data_uni.index.duplicated(keep='first')]\n",
    "\n",
    "#Fb prophet model predicts univariate time series. It requires that the Date index column is named 'ds'\n",
    "#and the values column is named 'y'\n",
    "Delhi_Data_uni['ds'] = pd.DatetimeIndex(Delhi_Data_uni['ds'])"
   ]
  },
  {
   "cell_type": "code",
   "execution_count": 3,
   "metadata": {},
   "outputs": [
    {
     "data": {
      "text/html": [
       "<div>\n",
       "<style scoped>\n",
       "    .dataframe tbody tr th:only-of-type {\n",
       "        vertical-align: middle;\n",
       "    }\n",
       "\n",
       "    .dataframe tbody tr th {\n",
       "        vertical-align: top;\n",
       "    }\n",
       "\n",
       "    .dataframe thead th {\n",
       "        text-align: right;\n",
       "    }\n",
       "</style>\n",
       "<table border=\"1\" class=\"dataframe\">\n",
       "  <thead>\n",
       "    <tr style=\"text-align: right;\">\n",
       "      <th></th>\n",
       "      <th>ds</th>\n",
       "      <th>no2</th>\n",
       "      <th>o3</th>\n",
       "      <th>pm10</th>\n",
       "      <th>pm25</th>\n",
       "      <th>so2</th>\n",
       "    </tr>\n",
       "  </thead>\n",
       "  <tbody>\n",
       "    <tr>\n",
       "      <th>1</th>\n",
       "      <td>2014-12-30</td>\n",
       "      <td>0.516287</td>\n",
       "      <td>0.108040</td>\n",
       "      <td>0.319430</td>\n",
       "      <td>0.616088</td>\n",
       "      <td>0.202970</td>\n",
       "    </tr>\n",
       "    <tr>\n",
       "      <th>2</th>\n",
       "      <td>2014-12-31</td>\n",
       "      <td>0.384365</td>\n",
       "      <td>0.183417</td>\n",
       "      <td>0.123093</td>\n",
       "      <td>0.314442</td>\n",
       "      <td>0.227723</td>\n",
       "    </tr>\n",
       "    <tr>\n",
       "      <th>3</th>\n",
       "      <td>2015-01-01</td>\n",
       "      <td>1.000000</td>\n",
       "      <td>0.118090</td>\n",
       "      <td>0.217701</td>\n",
       "      <td>0.643510</td>\n",
       "      <td>0.405941</td>\n",
       "    </tr>\n",
       "    <tr>\n",
       "      <th>4</th>\n",
       "      <td>2015-01-02</td>\n",
       "      <td>0.469055</td>\n",
       "      <td>0.138191</td>\n",
       "      <td>0.066124</td>\n",
       "      <td>0.259598</td>\n",
       "      <td>0.123762</td>\n",
       "    </tr>\n",
       "    <tr>\n",
       "      <th>5</th>\n",
       "      <td>2015-01-03</td>\n",
       "      <td>0.369707</td>\n",
       "      <td>0.118090</td>\n",
       "      <td>0.083418</td>\n",
       "      <td>0.272395</td>\n",
       "      <td>0.193069</td>\n",
       "    </tr>\n",
       "    <tr>\n",
       "      <th>...</th>\n",
       "      <td>...</td>\n",
       "      <td>...</td>\n",
       "      <td>...</td>\n",
       "      <td>...</td>\n",
       "      <td>...</td>\n",
       "      <td>...</td>\n",
       "    </tr>\n",
       "    <tr>\n",
       "      <th>1895</th>\n",
       "      <td>2022-03-15</td>\n",
       "      <td>0.179153</td>\n",
       "      <td>0.175879</td>\n",
       "      <td>0.128179</td>\n",
       "      <td>0.266910</td>\n",
       "      <td>0.252475</td>\n",
       "    </tr>\n",
       "    <tr>\n",
       "      <th>1896</th>\n",
       "      <td>2022-03-16</td>\n",
       "      <td>0.133550</td>\n",
       "      <td>0.195980</td>\n",
       "      <td>0.115972</td>\n",
       "      <td>0.246801</td>\n",
       "      <td>0.232673</td>\n",
       "    </tr>\n",
       "    <tr>\n",
       "      <th>1897</th>\n",
       "      <td>2022-03-17</td>\n",
       "      <td>0.177524</td>\n",
       "      <td>0.203518</td>\n",
       "      <td>0.130214</td>\n",
       "      <td>0.272395</td>\n",
       "      <td>0.306931</td>\n",
       "    </tr>\n",
       "    <tr>\n",
       "      <th>1898</th>\n",
       "      <td>2022-03-18</td>\n",
       "      <td>0.076547</td>\n",
       "      <td>0.278894</td>\n",
       "      <td>0.124110</td>\n",
       "      <td>0.283364</td>\n",
       "      <td>0.217822</td>\n",
       "    </tr>\n",
       "    <tr>\n",
       "      <th>1899</th>\n",
       "      <td>2022-03-19</td>\n",
       "      <td>0.096091</td>\n",
       "      <td>0.198492</td>\n",
       "      <td>0.104781</td>\n",
       "      <td>0.268739</td>\n",
       "      <td>0.193069</td>\n",
       "    </tr>\n",
       "  </tbody>\n",
       "</table>\n",
       "<p>1899 rows × 6 columns</p>\n",
       "</div>"
      ],
      "text/plain": [
       "             ds       no2        o3      pm10      pm25       so2\n",
       "1    2014-12-30  0.516287  0.108040  0.319430  0.616088  0.202970\n",
       "2    2014-12-31  0.384365  0.183417  0.123093  0.314442  0.227723\n",
       "3    2015-01-01  1.000000  0.118090  0.217701  0.643510  0.405941\n",
       "4    2015-01-02  0.469055  0.138191  0.066124  0.259598  0.123762\n",
       "5    2015-01-03  0.369707  0.118090  0.083418  0.272395  0.193069\n",
       "...         ...       ...       ...       ...       ...       ...\n",
       "1895 2022-03-15  0.179153  0.175879  0.128179  0.266910  0.252475\n",
       "1896 2022-03-16  0.133550  0.195980  0.115972  0.246801  0.232673\n",
       "1897 2022-03-17  0.177524  0.203518  0.130214  0.272395  0.306931\n",
       "1898 2022-03-18  0.076547  0.278894  0.124110  0.283364  0.217822\n",
       "1899 2022-03-19  0.096091  0.198492  0.104781  0.268739  0.193069\n",
       "\n",
       "[1899 rows x 6 columns]"
      ]
     },
     "execution_count": 3,
     "metadata": {},
     "output_type": "execute_result"
    }
   ],
   "source": [
    "Delhi_Data_uni"
   ]
  },
  {
   "cell_type": "code",
   "execution_count": 4,
   "metadata": {},
   "outputs": [
    {
     "name": "stdout",
     "output_type": "stream",
     "text": [
      "Check if Delhi_Data is stationary :\n",
      "p-value for no2 : 0.000491\n",
      "p-value for o3 : 0.003891\n",
      "p-value for so2 : 0.000114\n",
      "p-value for pm10 : 0.000009\n",
      "p-value for pm25 : 0.000003\n"
     ]
    }
   ],
   "source": [
    "#Check data for stationarity to apply the ARIMA model.\n",
    "\n",
    "#The null hypothesis is that the time series is non-stationary.\n",
    "#Using the Augmented Dickey Fuller test (adfuller()) we can check for stationarity.\n",
    "#If p-value < significance level(0.05), the we reject the null hypothesis.\n",
    "#Otherwise, the time series is non-stationary and needs differencing.\n",
    "\n",
    "print(\"Check if Delhi_Data is stationary :\")\n",
    "for col in ['no2', 'o3', 'so2', 'pm10', 'pm25']:\n",
    "    result = adfuller(Delhi_Data[col])\n",
    "    print('p-value for ' + col + ' : %f' % result[1])"
   ]
  },
  {
   "cell_type": "code",
   "execution_count": 3,
   "metadata": {},
   "outputs": [],
   "source": [
    "def fbprophet_predict(time_series, col):\n",
    "    \n",
    "    #CREATE MODEL\n",
    "    model = Prophet()\n",
    "    \n",
    "    #SPLIT TO TRAIN AND TEST PORTIONS\n",
    "    train_size = 0.8\n",
    "    train = time_series[:int(train_size*(len(time_series)))]\n",
    "    test = time_series[int(train_size*(len(time_series))):]\n",
    "    \n",
    "    #FIT TRAIN DATA TO MODEL\n",
    "    model.fit(train)\n",
    "    \n",
    "    #PREDICT THE TEST PORTION. THE PARAMETER IN THE PREDICT FUNCTION IS THE TIME INTERVAL TO PREDICT\n",
    "    forecast = model.predict(test[['ds']])\n",
    "    \n",
    "    #FORECAST PREVIEW. 'ds' IS THE DAILY INDEX, 'yhat' IS THE FORECAST, 'yhat_lower' and 'yhat_upper' ARE THE\n",
    "    #LOWER AND UPPER BOUND OF THE FORECASTED VALUE RESPECTIVELY.\n",
    "    print(forecast[['ds', 'yhat', 'yhat_lower', 'yhat_upper']].head())\n",
    "    print(test.reset_index(drop=True).head())\n",
    "    \n",
    "    #COMPUTE RMSE OF THE FORECASTED AND ACTUAL VALUE\n",
    "    rmse = math.sqrt(mean_squared_error(test[['y']], forecast[['yhat']]))\n",
    "    mse = mean_squared_error(test[['y']], forecast[['yhat']])\n",
    "    mae = mean_absolute_error(test[['y']], forecast[['yhat']])\n",
    "    \n",
    "    print(\"FB Prophet RMSE for Delhi[\" + col + \"]: \" + str(rmse) + \"\\n\")\n",
    "    print(\"FB Prophet MSE for Delhi[\" + col + \"]: \" + str(mse) + \"\\n\")\n",
    "    print(\"FB Prophet MAE for Delhi[\" + col + \"]: \" + str(mae) + \"\\n\")\n",
    "\n",
    "    return test, forecast, rmse"
   ]
  },
  {
   "cell_type": "code",
   "execution_count": 6,
   "metadata": {},
   "outputs": [],
   "source": [
    "#FB PROPHET REQUIRES THE DATAFRAME TO HAVE TWO COLUMNS. 'ds' AND 'y', 'ds' IS THE TIME INDEX AND 'y' IS THE\n",
    "#VALUE OF THE POLLUTANT\n",
    "\n",
    "#RENAME COLUMNS TO FIT TO THE PROPHET MODEL\n",
    "Delhi_o3 = Delhi_Data_uni[['ds', 'o3']]\n",
    "Delhi_o3.rename(columns = {'o3':'y'}, inplace = True)\n",
    "\n",
    "Delhi_no2 = Delhi_Data_uni[['ds', 'no2']]\n",
    "Delhi_no2.rename(columns = {'no2':'y'}, inplace = True)\n",
    "\n",
    "Delhi_so2 = Delhi_Data_uni[['ds', 'so2']]\n",
    "Delhi_so2.rename(columns = {'so2':'y'}, inplace = True)\n",
    "\n",
    "Delhi_pm10 = Delhi_Data_uni[['ds', 'pm10']]\n",
    "Delhi_pm10.rename(columns = {'pm10':'y'}, inplace = True)\n",
    "\n",
    "Delhi_pm25 = Delhi_Data_uni[['ds', 'pm25']]\n",
    "Delhi_pm25.rename(columns = {'pm25':'y'}, inplace = True)\n",
    "\n",
    "datasets = [Delhi_o3, Delhi_no2, Delhi_so2, Delhi_pm10, Delhi_pm25]"
   ]
  },
  {
   "cell_type": "code",
   "execution_count": 7,
   "metadata": {
    "scrolled": false
   },
   "outputs": [
    {
     "name": "stderr",
     "output_type": "stream",
     "text": [
      "INFO:fbprophet:Disabling daily seasonality. Run prophet with daily_seasonality=True to override this.\n",
      "INFO:fbprophet:Disabling daily seasonality. Run prophet with daily_seasonality=True to override this.\n"
     ]
    },
    {
     "name": "stdout",
     "output_type": "stream",
     "text": [
      "          ds      yhat  yhat_lower  yhat_upper\n",
      "0 2021-02-11  0.181474    0.054950    0.308126\n",
      "1 2021-02-12  0.186484    0.071055    0.314342\n",
      "2 2021-02-13  0.189076    0.057794    0.312866\n",
      "3 2021-02-14  0.215687    0.087927    0.333203\n",
      "4 2021-02-15  0.212708    0.088497    0.334218\n",
      "          ds         y\n",
      "0 2021-02-11  0.108040\n",
      "1 2021-02-12  0.097990\n",
      "2 2021-02-13  0.120603\n",
      "3 2021-02-14  0.133166\n",
      "4 2021-02-15  0.135678\n",
      "FB Prophet RMSE for Delhi[o3]: 0.07609657941715994\n",
      "\n",
      "FB Prophet MSE for Delhi[o3]: 0.005790689398992131\n",
      "\n",
      "FB Prophet MAE for Delhi[o3]: 0.061155730012919615\n",
      "\n"
     ]
    },
    {
     "name": "stderr",
     "output_type": "stream",
     "text": [
      "INFO:fbprophet:Disabling daily seasonality. Run prophet with daily_seasonality=True to override this.\n"
     ]
    },
    {
     "name": "stdout",
     "output_type": "stream",
     "text": [
      "          ds      yhat  yhat_lower  yhat_upper\n",
      "0 2021-02-11  0.246858    0.131118    0.355728\n",
      "1 2021-02-12  0.238284    0.131544    0.355498\n",
      "2 2021-02-13  0.235104    0.120620    0.342746\n",
      "3 2021-02-14  0.208221    0.093016    0.326006\n",
      "4 2021-02-15  0.222618    0.102480    0.330668\n",
      "          ds         y\n",
      "0 2021-02-11  0.286645\n",
      "1 2021-02-12  0.273616\n",
      "2 2021-02-13  0.255700\n",
      "3 2021-02-14  0.236156\n",
      "4 2021-02-15  0.278502\n",
      "FB Prophet RMSE for Delhi[no2]: 0.0797064344131809\n",
      "\n",
      "FB Prophet MSE for Delhi[no2]: 0.0063531156868627085\n",
      "\n",
      "FB Prophet MAE for Delhi[no2]: 0.06507966150033927\n",
      "\n"
     ]
    },
    {
     "name": "stderr",
     "output_type": "stream",
     "text": [
      "INFO:fbprophet:Disabling daily seasonality. Run prophet with daily_seasonality=True to override this.\n"
     ]
    },
    {
     "name": "stdout",
     "output_type": "stream",
     "text": [
      "          ds      yhat  yhat_lower  yhat_upper\n",
      "0 2021-02-11  0.247374    0.140463    0.361261\n",
      "1 2021-02-12  0.243169    0.140418    0.349522\n",
      "2 2021-02-13  0.244774    0.131204    0.351161\n",
      "3 2021-02-14  0.233335    0.125592    0.348116\n",
      "4 2021-02-15  0.233147    0.128667    0.345301\n",
      "          ds         y\n",
      "0 2021-02-11  0.272277\n",
      "1 2021-02-12  0.193069\n",
      "2 2021-02-13  0.133663\n",
      "3 2021-02-14  0.158416\n",
      "4 2021-02-15  0.193069\n",
      "FB Prophet RMSE for Delhi[so2]: 0.07033535933945917\n",
      "\n",
      "FB Prophet MSE for Delhi[so2]: 0.004947062773410846\n",
      "\n",
      "FB Prophet MAE for Delhi[so2]: 0.05624727962303807\n",
      "\n"
     ]
    },
    {
     "name": "stderr",
     "output_type": "stream",
     "text": [
      "INFO:fbprophet:Disabling daily seasonality. Run prophet with daily_seasonality=True to override this.\n"
     ]
    },
    {
     "name": "stdout",
     "output_type": "stream",
     "text": [
      "          ds      yhat  yhat_lower  yhat_upper\n",
      "0 2021-02-11  0.119434    0.028439    0.200088\n",
      "1 2021-02-12  0.114961    0.033595    0.204057\n",
      "2 2021-02-13  0.107268    0.017956    0.192938\n",
      "3 2021-02-14  0.096771    0.013327    0.184217\n",
      "4 2021-02-15  0.096757    0.014850    0.184475\n",
      "          ds         y\n",
      "0 2021-02-11  0.158698\n",
      "1 2021-02-12  0.189217\n",
      "2 2021-02-13  0.158698\n",
      "3 2021-02-14  0.167854\n",
      "4 2021-02-15  0.160732\n",
      "FB Prophet RMSE for Delhi[pm10]: 0.05550276669227234\n",
      "\n",
      "FB Prophet MSE for Delhi[pm10]: 0.0030805571104968155\n",
      "\n",
      "FB Prophet MAE for Delhi[pm10]: 0.04319320802621093\n",
      "\n",
      "          ds      yhat  yhat_lower  yhat_upper\n",
      "0 2021-02-11  0.290086    0.196118    0.385114\n",
      "1 2021-02-12  0.285182    0.189191    0.378793\n",
      "2 2021-02-13  0.276877    0.187617    0.366269\n",
      "3 2021-02-14  0.269449    0.174410    0.358750\n",
      "4 2021-02-15  0.265467    0.184697    0.359570\n",
      "          ds         y\n",
      "0 2021-02-11  0.352834\n",
      "1 2021-02-12  0.436929\n",
      "2 2021-02-13  0.371115\n",
      "3 2021-02-14  0.380256\n",
      "4 2021-02-15  0.347349\n",
      "FB Prophet RMSE for Delhi[pm25]: 0.08098652162218707\n",
      "\n",
      "FB Prophet MSE for Delhi[pm25]: 0.0065588166844609734\n",
      "\n",
      "FB Prophet MAE for Delhi[pm25]: 0.06174076710877965\n",
      "\n"
     ]
    }
   ],
   "source": [
    "pollutants = ['o3', 'no2', 'so2', 'pm10', 'pm25']\n",
    "\n",
    "i=0\n",
    "\n",
    "#EVALUATE MODEL FOR EVERY POLLUTANT\n",
    "for data in datasets:\n",
    "    test, forecast, error = fbprophet_predict(data, pollutants[i])\n",
    "    i = i+1"
   ]
  },
  {
   "cell_type": "markdown",
   "metadata": {},
   "source": [
    "### Repeat process but this time train model with the same amount of data as Athens, to prove that the model returns better results due to bigger amount of data."
   ]
  },
  {
   "cell_type": "code",
   "execution_count": 8,
   "metadata": {},
   "outputs": [],
   "source": [
    "import pandas as pd\n",
    "Athens_Data = pd.read_csv('Athens_Data.csv', index_col=0)"
   ]
  },
  {
   "cell_type": "code",
   "execution_count": 9,
   "metadata": {},
   "outputs": [
    {
     "data": {
      "text/plain": [
       "839"
      ]
     },
     "execution_count": 9,
     "metadata": {},
     "output_type": "execute_result"
    }
   ],
   "source": [
    "len(Athens_Data)"
   ]
  },
  {
   "cell_type": "code",
   "execution_count": 10,
   "metadata": {},
   "outputs": [],
   "source": [
    "data_to_drop = len(Delhi_Data) - len(Athens_Data)"
   ]
  },
  {
   "cell_type": "code",
   "execution_count": 11,
   "metadata": {},
   "outputs": [
    {
     "data": {
      "text/plain": [
       "839"
      ]
     },
     "execution_count": 11,
     "metadata": {},
     "output_type": "execute_result"
    }
   ],
   "source": [
    "Delhi_less_data = Delhi_Data.iloc[data_to_drop: , :]\n",
    "len(Delhi_less_data)"
   ]
  },
  {
   "cell_type": "code",
   "execution_count": 12,
   "metadata": {},
   "outputs": [
    {
     "data": {
      "text/html": [
       "<div>\n",
       "<style scoped>\n",
       "    .dataframe tbody tr th:only-of-type {\n",
       "        vertical-align: middle;\n",
       "    }\n",
       "\n",
       "    .dataframe tbody tr th {\n",
       "        vertical-align: top;\n",
       "    }\n",
       "\n",
       "    .dataframe thead th {\n",
       "        text-align: right;\n",
       "    }\n",
       "</style>\n",
       "<table border=\"1\" class=\"dataframe\">\n",
       "  <thead>\n",
       "    <tr style=\"text-align: right;\">\n",
       "      <th></th>\n",
       "      <th>ds</th>\n",
       "      <th>no2</th>\n",
       "      <th>o3</th>\n",
       "      <th>pm10</th>\n",
       "      <th>pm25</th>\n",
       "      <th>so2</th>\n",
       "      <th>temp</th>\n",
       "      <th>dew</th>\n",
       "      <th>humidity</th>\n",
       "      <th>windspeed</th>\n",
       "      <th>winddir</th>\n",
       "    </tr>\n",
       "  </thead>\n",
       "  <tbody>\n",
       "    <tr>\n",
       "      <th>1061</th>\n",
       "      <td>2019-11-10</td>\n",
       "      <td>0.258958</td>\n",
       "      <td>0.123116</td>\n",
       "      <td>0.170905</td>\n",
       "      <td>0.402194</td>\n",
       "      <td>0.292079</td>\n",
       "      <td>0.457317</td>\n",
       "      <td>0.372180</td>\n",
       "      <td>0.458583</td>\n",
       "      <td>0.036290</td>\n",
       "      <td>0.589863</td>\n",
       "    </tr>\n",
       "    <tr>\n",
       "      <th>1062</th>\n",
       "      <td>2019-11-11</td>\n",
       "      <td>0.315961</td>\n",
       "      <td>0.108040</td>\n",
       "      <td>0.185148</td>\n",
       "      <td>0.436929</td>\n",
       "      <td>0.297030</td>\n",
       "      <td>0.432927</td>\n",
       "      <td>0.353383</td>\n",
       "      <td>0.464586</td>\n",
       "      <td>0.029234</td>\n",
       "      <td>0.460820</td>\n",
       "    </tr>\n",
       "    <tr>\n",
       "      <th>1063</th>\n",
       "      <td>2019-11-12</td>\n",
       "      <td>0.350163</td>\n",
       "      <td>0.110553</td>\n",
       "      <td>0.427263</td>\n",
       "      <td>0.703839</td>\n",
       "      <td>0.282178</td>\n",
       "      <td>0.408537</td>\n",
       "      <td>0.360902</td>\n",
       "      <td>0.506603</td>\n",
       "      <td>0.038306</td>\n",
       "      <td>0.407980</td>\n",
       "    </tr>\n",
       "    <tr>\n",
       "      <th>1064</th>\n",
       "      <td>2019-11-13</td>\n",
       "      <td>0.395765</td>\n",
       "      <td>0.085427</td>\n",
       "      <td>0.436419</td>\n",
       "      <td>0.731261</td>\n",
       "      <td>0.287129</td>\n",
       "      <td>0.432927</td>\n",
       "      <td>0.436090</td>\n",
       "      <td>0.561825</td>\n",
       "      <td>0.020161</td>\n",
       "      <td>0.245866</td>\n",
       "    </tr>\n",
       "    <tr>\n",
       "      <th>1065</th>\n",
       "      <td>2019-11-14</td>\n",
       "      <td>0.477199</td>\n",
       "      <td>0.143216</td>\n",
       "      <td>0.447609</td>\n",
       "      <td>0.714808</td>\n",
       "      <td>0.311881</td>\n",
       "      <td>0.435976</td>\n",
       "      <td>0.511278</td>\n",
       "      <td>0.644658</td>\n",
       "      <td>0.020161</td>\n",
       "      <td>0.159597</td>\n",
       "    </tr>\n",
       "    <tr>\n",
       "      <th>...</th>\n",
       "      <td>...</td>\n",
       "      <td>...</td>\n",
       "      <td>...</td>\n",
       "      <td>...</td>\n",
       "      <td>...</td>\n",
       "      <td>...</td>\n",
       "      <td>...</td>\n",
       "      <td>...</td>\n",
       "      <td>...</td>\n",
       "      <td>...</td>\n",
       "      <td>...</td>\n",
       "    </tr>\n",
       "    <tr>\n",
       "      <th>1895</th>\n",
       "      <td>2022-03-15</td>\n",
       "      <td>0.179153</td>\n",
       "      <td>0.175879</td>\n",
       "      <td>0.128179</td>\n",
       "      <td>0.266910</td>\n",
       "      <td>0.252475</td>\n",
       "      <td>0.618902</td>\n",
       "      <td>0.699248</td>\n",
       "      <td>0.642257</td>\n",
       "      <td>0.065524</td>\n",
       "      <td>0.572969</td>\n",
       "    </tr>\n",
       "    <tr>\n",
       "      <th>1896</th>\n",
       "      <td>2022-03-16</td>\n",
       "      <td>0.133550</td>\n",
       "      <td>0.195980</td>\n",
       "      <td>0.115972</td>\n",
       "      <td>0.246801</td>\n",
       "      <td>0.232673</td>\n",
       "      <td>0.640244</td>\n",
       "      <td>0.684211</td>\n",
       "      <td>0.589436</td>\n",
       "      <td>0.095766</td>\n",
       "      <td>0.861970</td>\n",
       "    </tr>\n",
       "    <tr>\n",
       "      <th>1897</th>\n",
       "      <td>2022-03-17</td>\n",
       "      <td>0.177524</td>\n",
       "      <td>0.203518</td>\n",
       "      <td>0.130214</td>\n",
       "      <td>0.272395</td>\n",
       "      <td>0.306931</td>\n",
       "      <td>0.643293</td>\n",
       "      <td>0.706767</td>\n",
       "      <td>0.602641</td>\n",
       "      <td>0.020161</td>\n",
       "      <td>0.511503</td>\n",
       "    </tr>\n",
       "    <tr>\n",
       "      <th>1898</th>\n",
       "      <td>2022-03-18</td>\n",
       "      <td>0.076547</td>\n",
       "      <td>0.278894</td>\n",
       "      <td>0.124110</td>\n",
       "      <td>0.283364</td>\n",
       "      <td>0.217822</td>\n",
       "      <td>0.658537</td>\n",
       "      <td>0.774436</td>\n",
       "      <td>0.656663</td>\n",
       "      <td>0.045867</td>\n",
       "      <td>0.338246</td>\n",
       "    </tr>\n",
       "    <tr>\n",
       "      <th>1899</th>\n",
       "      <td>2022-03-19</td>\n",
       "      <td>0.096091</td>\n",
       "      <td>0.198492</td>\n",
       "      <td>0.104781</td>\n",
       "      <td>0.268739</td>\n",
       "      <td>0.193069</td>\n",
       "      <td>0.667683</td>\n",
       "      <td>0.703008</td>\n",
       "      <td>0.579832</td>\n",
       "      <td>0.029234</td>\n",
       "      <td>0.315241</td>\n",
       "    </tr>\n",
       "  </tbody>\n",
       "</table>\n",
       "<p>839 rows × 11 columns</p>\n",
       "</div>"
      ],
      "text/plain": [
       "              ds       no2        o3      pm10      pm25       so2      temp  \\\n",
       "1061  2019-11-10  0.258958  0.123116  0.170905  0.402194  0.292079  0.457317   \n",
       "1062  2019-11-11  0.315961  0.108040  0.185148  0.436929  0.297030  0.432927   \n",
       "1063  2019-11-12  0.350163  0.110553  0.427263  0.703839  0.282178  0.408537   \n",
       "1064  2019-11-13  0.395765  0.085427  0.436419  0.731261  0.287129  0.432927   \n",
       "1065  2019-11-14  0.477199  0.143216  0.447609  0.714808  0.311881  0.435976   \n",
       "...          ...       ...       ...       ...       ...       ...       ...   \n",
       "1895  2022-03-15  0.179153  0.175879  0.128179  0.266910  0.252475  0.618902   \n",
       "1896  2022-03-16  0.133550  0.195980  0.115972  0.246801  0.232673  0.640244   \n",
       "1897  2022-03-17  0.177524  0.203518  0.130214  0.272395  0.306931  0.643293   \n",
       "1898  2022-03-18  0.076547  0.278894  0.124110  0.283364  0.217822  0.658537   \n",
       "1899  2022-03-19  0.096091  0.198492  0.104781  0.268739  0.193069  0.667683   \n",
       "\n",
       "           dew  humidity  windspeed   winddir  \n",
       "1061  0.372180  0.458583   0.036290  0.589863  \n",
       "1062  0.353383  0.464586   0.029234  0.460820  \n",
       "1063  0.360902  0.506603   0.038306  0.407980  \n",
       "1064  0.436090  0.561825   0.020161  0.245866  \n",
       "1065  0.511278  0.644658   0.020161  0.159597  \n",
       "...        ...       ...        ...       ...  \n",
       "1895  0.699248  0.642257   0.065524  0.572969  \n",
       "1896  0.684211  0.589436   0.095766  0.861970  \n",
       "1897  0.706767  0.602641   0.020161  0.511503  \n",
       "1898  0.774436  0.656663   0.045867  0.338246  \n",
       "1899  0.703008  0.579832   0.029234  0.315241  \n",
       "\n",
       "[839 rows x 11 columns]"
      ]
     },
     "execution_count": 12,
     "metadata": {},
     "output_type": "execute_result"
    }
   ],
   "source": [
    "Delhi_less_data"
   ]
  },
  {
   "cell_type": "code",
   "execution_count": 13,
   "metadata": {
    "scrolled": false
   },
   "outputs": [
    {
     "name": "stderr",
     "output_type": "stream",
     "text": [
      "INFO:fbprophet:Disabling yearly seasonality. Run prophet with yearly_seasonality=True to override this.\n",
      "INFO:fbprophet:Disabling daily seasonality. Run prophet with daily_seasonality=True to override this.\n",
      "INFO:fbprophet:Disabling yearly seasonality. Run prophet with yearly_seasonality=True to override this.\n",
      "INFO:fbprophet:Disabling daily seasonality. Run prophet with daily_seasonality=True to override this.\n"
     ]
    },
    {
     "name": "stdout",
     "output_type": "stream",
     "text": [
      "          ds      yhat  yhat_lower  yhat_upper\n",
      "0 2021-09-11  0.240844    0.118203    0.351333\n",
      "1 2021-09-12  0.245428    0.134719    0.358234\n",
      "2 2021-09-13  0.236795    0.127795    0.352782\n",
      "3 2021-09-14  0.230171    0.113732    0.349324\n",
      "4 2021-09-15  0.233597    0.119139    0.345802\n",
      "           ds         y\n",
      "0  2021-09-11  0.185930\n",
      "1  2021-09-12  0.165829\n",
      "2  2021-09-13  0.178392\n",
      "3  2021-09-14  0.160804\n",
      "4  2021-09-15  0.180905\n",
      "FB Prophet RMSE for Delhi[o3]: 0.09731588051161101\n",
      "\n",
      "FB Prophet MSE for Delhi[o3]: 0.009470380599750153\n",
      "\n",
      "FB Prophet MAE for Delhi[o3]: 0.08556797351431669\n",
      "\n"
     ]
    },
    {
     "name": "stderr",
     "output_type": "stream",
     "text": [
      "INFO:fbprophet:Disabling yearly seasonality. Run prophet with yearly_seasonality=True to override this.\n",
      "INFO:fbprophet:Disabling daily seasonality. Run prophet with daily_seasonality=True to override this.\n"
     ]
    },
    {
     "name": "stdout",
     "output_type": "stream",
     "text": [
      "          ds      yhat  yhat_lower  yhat_upper\n",
      "0 2021-09-11  0.006220   -0.092738    0.108562\n",
      "1 2021-09-12 -0.001895   -0.101127    0.098890\n",
      "2 2021-09-13  0.009821   -0.084543    0.104246\n",
      "3 2021-09-14  0.015304   -0.086389    0.110598\n",
      "4 2021-09-15  0.013445   -0.084999    0.108261\n",
      "           ds         y\n",
      "0  2021-09-11  0.048860\n",
      "1  2021-09-12  0.052117\n",
      "2  2021-09-13  0.071661\n",
      "3  2021-09-14  0.048860\n",
      "4  2021-09-15  0.040717\n",
      "FB Prophet RMSE for Delhi[no2]: 0.31774477431148296\n",
      "\n",
      "FB Prophet MSE for Delhi[no2]: 0.10096174160225523\n",
      "\n",
      "FB Prophet MAE for Delhi[no2]: 0.2954301214518543\n",
      "\n"
     ]
    },
    {
     "name": "stderr",
     "output_type": "stream",
     "text": [
      "INFO:fbprophet:Disabling yearly seasonality. Run prophet with yearly_seasonality=True to override this.\n",
      "INFO:fbprophet:Disabling daily seasonality. Run prophet with daily_seasonality=True to override this.\n"
     ]
    },
    {
     "name": "stdout",
     "output_type": "stream",
     "text": [
      "          ds      yhat  yhat_lower  yhat_upper\n",
      "0 2021-09-11  0.020200   -0.066618    0.103275\n",
      "1 2021-09-12  0.023460   -0.060776    0.107245\n",
      "2 2021-09-13  0.027466   -0.051028    0.107775\n",
      "3 2021-09-14  0.031059   -0.049323    0.116011\n",
      "4 2021-09-15  0.026356   -0.051460    0.102574\n",
      "           ds         y\n",
      "0  2021-09-11  0.049505\n",
      "1  2021-09-12  0.064356\n",
      "2  2021-09-13  0.074257\n",
      "3  2021-09-14  0.089109\n",
      "4  2021-09-15  0.074257\n",
      "FB Prophet RMSE for Delhi[so2]: 0.29516459665071715\n",
      "\n",
      "FB Prophet MSE for Delhi[so2]: 0.08712213911598055\n",
      "\n",
      "FB Prophet MAE for Delhi[so2]: 0.27024153279055585\n",
      "\n"
     ]
    },
    {
     "name": "stderr",
     "output_type": "stream",
     "text": [
      "INFO:fbprophet:Disabling yearly seasonality. Run prophet with yearly_seasonality=True to override this.\n",
      "INFO:fbprophet:Disabling daily seasonality. Run prophet with daily_seasonality=True to override this.\n"
     ]
    },
    {
     "name": "stdout",
     "output_type": "stream",
     "text": [
      "          ds      yhat  yhat_lower  yhat_upper\n",
      "0 2021-09-11  0.030558   -0.046562    0.115623\n",
      "1 2021-09-12  0.029752   -0.055708    0.109218\n",
      "2 2021-09-13  0.032098   -0.048401    0.115021\n",
      "3 2021-09-14  0.042238   -0.037795    0.132705\n",
      "4 2021-09-15  0.038656   -0.043886    0.122347\n",
      "           ds         y\n",
      "0  2021-09-11  0.012208\n",
      "1  2021-09-12  0.029502\n",
      "2  2021-09-13  0.044761\n",
      "3  2021-09-14  0.040692\n",
      "4  2021-09-15  0.036623\n",
      "FB Prophet RMSE for Delhi[pm10]: 0.18039696467683353\n",
      "\n",
      "FB Prophet MSE for Delhi[pm10]: 0.032543064864614724\n",
      "\n",
      "FB Prophet MAE for Delhi[pm10]: 0.15730390973725303\n",
      "\n",
      "          ds      yhat  yhat_lower  yhat_upper\n",
      "0 2021-09-11  0.067710   -0.035589    0.193351\n",
      "1 2021-09-12  0.069918   -0.050769    0.183920\n",
      "2 2021-09-13  0.069938   -0.043956    0.184848\n",
      "3 2021-09-14  0.073543   -0.045411    0.185038\n",
      "4 2021-09-15  0.069440   -0.036615    0.184207\n",
      "           ds         y\n",
      "0  2021-09-11  0.056673\n",
      "1  2021-09-12  0.087751\n",
      "2  2021-09-13  0.131627\n",
      "3  2021-09-14  0.076782\n",
      "4  2021-09-15  0.049360\n",
      "FB Prophet RMSE for Delhi[pm25]: 0.3841990894539533\n",
      "\n",
      "FB Prophet MSE for Delhi[pm25]: 0.14760894033724684\n",
      "\n",
      "FB Prophet MAE for Delhi[pm25]: 0.35257197834009474\n",
      "\n"
     ]
    }
   ],
   "source": [
    "Delhi_o3 = Delhi_less_data[['ds', 'o3']]\n",
    "Delhi_o3.rename(columns = {'o3':'y'}, inplace = True)\n",
    "\n",
    "Delhi_no2 = Delhi_less_data[['ds', 'no2']]\n",
    "Delhi_no2.rename(columns = {'no2':'y'}, inplace = True)\n",
    "\n",
    "Delhi_so2 = Delhi_less_data[['ds', 'so2']]\n",
    "Delhi_so2.rename(columns = {'so2':'y'}, inplace = True)\n",
    "\n",
    "Delhi_pm10 = Delhi_less_data[['ds', 'pm10']]\n",
    "Delhi_pm10.rename(columns = {'pm10':'y'}, inplace = True)\n",
    "\n",
    "Delhi_pm25 = Delhi_less_data[['ds', 'pm25']]\n",
    "Delhi_pm25.rename(columns = {'pm25':'y'}, inplace = True)\n",
    "\n",
    "datasets = [Delhi_o3, Delhi_no2, Delhi_so2, Delhi_pm10, Delhi_pm25]\n",
    "\n",
    "i=0\n",
    "\n",
    "#EVALUATE MODEL FOR EVERY POLLUTANT\n",
    "for data in datasets:\n",
    "    test, forecast, error = fbprophet_predict(data, pollutants[i])\n",
    "    i = i+1"
   ]
  },
  {
   "cell_type": "markdown",
   "metadata": {},
   "source": [
    "## Seasonal split"
   ]
  },
  {
   "cell_type": "markdown",
   "metadata": {},
   "source": [
    "The seasonal decomposition of the Delhi data we can see that there is a seasonality in the monthly resampled data. Specifically, for each pollutant the seasonal length of the data is:\n",
    "- NO2: 12 months or 365 days\n",
    "- SO2: 12 months\n",
    "- O3: 12 months\n",
    "- PM25: 12 months\n",
    "- PM10: 12 months"
   ]
  },
  {
   "cell_type": "code",
   "execution_count": 14,
   "metadata": {},
   "outputs": [],
   "source": [
    "def fbprophet_predict_seasonal(time_series, col):\n",
    "    \n",
    "    #CREATE MODEL\n",
    "    model = Prophet()\n",
    "    time_series.index = time_series['ds']\n",
    "    #SPLIT TO TRAIN AND TEST PORTIONS\n",
    "    train, test = time_series['2019-12-01' : '2021-12-31'], time_series['2022-01-01' : '2022-03-18']\n",
    "    \n",
    "    #FIT TRAIN DATA TO MODEL\n",
    "    model.fit(train)\n",
    "    \n",
    "    #PREDICT THE TEST PORTION. THE PARAMETER IN THE PREDICT FUNCTION IS THE TIME INTERVAL TO PREDICT\n",
    "    forecast = model.predict(test[['ds']])\n",
    "    \n",
    "    #FORECAST PREVIEW. 'ds' IS THE DAILY INDEX, 'yhat' IS THE FORECAST, 'yhat_lower' and 'yhat_upper' ARE THE\n",
    "    #LOWER AND UPPER BOUND OF THE FORECASTED VALUE RESPECTIVELY.\n",
    "    print(forecast[['ds', 'yhat', 'yhat_lower', 'yhat_upper']].head())\n",
    "    print(test.reset_index(drop=True).head())\n",
    "    \n",
    "    #COMPUTE RMSE OF THE FORECASTED AND ACTUAL VALUE\n",
    "    rmse = math.sqrt(mean_squared_error(test[['y']], forecast[['yhat']]))\n",
    "    mse = mean_squared_error(test[['y']], forecast[['yhat']])\n",
    "    mae = mean_absolute_error(test[['y']], forecast[['yhat']])\n",
    "    \n",
    "    print(\"FB Prophet RMSE for Delhi[\" + col + \"]: \" + str(rmse) + \"\\n\")\n",
    "    print(\"FB Prophet MSE for Delhi[\" + col + \"]: \" + str(mse) + \"\\n\")\n",
    "    print(\"FB Prophet MAE for Delhi[\" + col + \"]: \" + str(mae) + \"\\n\")\n",
    "\n",
    "    return test, forecast, rmse"
   ]
  },
  {
   "cell_type": "code",
   "execution_count": 15,
   "metadata": {},
   "outputs": [
    {
     "name": "stderr",
     "output_type": "stream",
     "text": [
      "INFO:fbprophet:Disabling daily seasonality. Run prophet with daily_seasonality=True to override this.\n",
      "INFO:fbprophet:Disabling daily seasonality. Run prophet with daily_seasonality=True to override this.\n"
     ]
    },
    {
     "name": "stdout",
     "output_type": "stream",
     "text": [
      "          ds      yhat  yhat_lower  yhat_upper\n",
      "0 2022-01-01  0.097106    0.012253    0.182511\n",
      "1 2022-01-02  0.099065    0.008684    0.175259\n",
      "2 2022-01-03  0.093584    0.008217    0.175603\n",
      "3 2022-01-04  0.088262   -0.000419    0.171118\n",
      "4 2022-01-05  0.090807    0.002040    0.178777\n",
      "           ds         y\n",
      "0  2022-01-01  0.057789\n",
      "1  2022-01-02  0.040201\n",
      "2  2022-01-03  0.060302\n",
      "3  2022-01-04  0.070352\n",
      "4  2022-01-05  0.097990\n",
      "FB Prophet RMSE for Delhi[o3]: 0.052223362939417615\n",
      "\n",
      "FB Prophet MSE for Delhi[o3]: 0.0027272796367021376\n",
      "\n",
      "FB Prophet MAE for Delhi[o3]: 0.036696033778325726\n",
      "\n"
     ]
    },
    {
     "name": "stderr",
     "output_type": "stream",
     "text": [
      "INFO:fbprophet:Disabling daily seasonality. Run prophet with daily_seasonality=True to override this.\n"
     ]
    },
    {
     "name": "stdout",
     "output_type": "stream",
     "text": [
      "          ds      yhat  yhat_lower  yhat_upper\n",
      "0 2022-01-01  0.231941    0.154076    0.308743\n",
      "1 2022-01-02  0.221126    0.148387    0.294268\n",
      "2 2022-01-03  0.228872    0.155823    0.302946\n",
      "3 2022-01-04  0.230004    0.155386    0.303865\n",
      "4 2022-01-05  0.228110    0.150884    0.302861\n",
      "           ds         y\n",
      "0  2022-01-01  0.312704\n",
      "1  2022-01-02  0.263844\n",
      "2  2022-01-03  0.307818\n",
      "3  2022-01-04  0.324104\n",
      "4  2022-01-05  0.249186\n",
      "FB Prophet RMSE for Delhi[no2]: 0.07883749030757338\n",
      "\n",
      "FB Prophet MSE for Delhi[no2]: 0.006215349877996726\n",
      "\n",
      "FB Prophet MAE for Delhi[no2]: 0.06769605407172036\n",
      "\n"
     ]
    },
    {
     "name": "stderr",
     "output_type": "stream",
     "text": [
      "INFO:fbprophet:Disabling daily seasonality. Run prophet with daily_seasonality=True to override this.\n"
     ]
    },
    {
     "name": "stdout",
     "output_type": "stream",
     "text": [
      "          ds      yhat  yhat_lower  yhat_upper\n",
      "0 2022-01-01  0.110194    0.047443    0.168155\n",
      "1 2022-01-02  0.113974    0.058561    0.176799\n",
      "2 2022-01-03  0.118530    0.057180    0.176399\n",
      "3 2022-01-04  0.120939    0.059793    0.180095\n",
      "4 2022-01-05  0.115485    0.052425    0.176551\n",
      "           ds         y\n",
      "0  2022-01-01  0.128713\n",
      "1  2022-01-02  0.079208\n",
      "2  2022-01-03  0.133663\n",
      "3  2022-01-04  0.168317\n",
      "4  2022-01-05  0.094059\n",
      "FB Prophet RMSE for Delhi[so2]: 0.042028105528109615\n",
      "\n",
      "FB Prophet MSE for Delhi[so2]: 0.0017663616542819179\n",
      "\n",
      "FB Prophet MAE for Delhi[so2]: 0.03353219486343094\n",
      "\n"
     ]
    },
    {
     "name": "stderr",
     "output_type": "stream",
     "text": [
      "INFO:fbprophet:Disabling daily seasonality. Run prophet with daily_seasonality=True to override this.\n"
     ]
    },
    {
     "name": "stdout",
     "output_type": "stream",
     "text": [
      "          ds      yhat  yhat_lower  yhat_upper\n",
      "0 2022-01-01  0.176257    0.104806    0.246059\n",
      "1 2022-01-02  0.170213    0.102832    0.237080\n",
      "2 2022-01-03  0.165563    0.092051    0.237863\n",
      "3 2022-01-04  0.169238    0.100473    0.239337\n",
      "4 2022-01-05  0.162814    0.095601    0.229646\n",
      "           ds         y\n",
      "0  2022-01-01  0.167854\n",
      "1  2022-01-02  0.288911\n",
      "2  2022-01-03  0.184130\n",
      "3  2022-01-04  0.182096\n",
      "4  2022-01-05  0.196338\n",
      "FB Prophet RMSE for Delhi[pm10]: 0.041436850021768966\n",
      "\n",
      "FB Prophet MSE for Delhi[pm10]: 0.0017170125397265748\n",
      "\n",
      "FB Prophet MAE for Delhi[pm10]: 0.03176308542609331\n",
      "\n",
      "          ds      yhat  yhat_lower  yhat_upper\n",
      "0 2022-01-01  0.401779    0.297486    0.499180\n",
      "1 2022-01-02  0.398092    0.292844    0.502238\n",
      "2 2022-01-03  0.389934    0.285950    0.495639\n",
      "3 2022-01-04  0.386744    0.282518    0.484606\n",
      "4 2022-01-05  0.378510    0.278460    0.483314\n",
      "           ds         y\n",
      "0  2022-01-01  0.429616\n",
      "1  2022-01-02  0.583181\n",
      "2  2022-01-03  0.449726\n",
      "3  2022-01-04  0.431444\n",
      "4  2022-01-05  0.504570\n",
      "FB Prophet RMSE for Delhi[pm25]: 0.07218585314723774\n",
      "\n",
      "FB Prophet MSE for Delhi[pm25]: 0.005210797394594573\n",
      "\n",
      "FB Prophet MAE for Delhi[pm25]: 0.05563474351168515\n",
      "\n"
     ]
    }
   ],
   "source": [
    "pollutants = ['o3', 'no2', 'so2', 'pm10', 'pm25']\n",
    "\n",
    "i=0\n",
    "\n",
    "#EVALUATE MODEL FOR EVERY POLLUTANT\n",
    "for data in datasets:\n",
    "    test, forecast, error = fbprophet_predict_seasonal(data, pollutants[i])\n",
    "    \n",
    "    i = i+1"
   ]
  },
  {
   "cell_type": "markdown",
   "metadata": {},
   "source": [
    "## Weekly predictions"
   ]
  },
  {
   "cell_type": "code",
   "execution_count": 4,
   "metadata": {},
   "outputs": [],
   "source": [
    "Delhi_Data_uni.index = Delhi_Data_uni['ds']\n",
    "Delhi_Data_uni = Delhi_Data_uni.drop(['ds'],axis=1)\n",
    "\n",
    "Delhi_Data_uni.index = pd.to_datetime(Delhi_Data_uni.index)\n",
    "Delhi_weekly = Delhi_Data_uni.resample(\"1w\").mean().bfill()\n",
    "\n",
    "Delhi_weekly['ds'] = Delhi_weekly.index"
   ]
  },
  {
   "cell_type": "code",
   "execution_count": 5,
   "metadata": {},
   "outputs": [],
   "source": [
    "Delhi_o3 = Delhi_weekly[['ds', 'o3']]\n",
    "Delhi_o3.rename(columns = {'o3':'y'}, inplace = True)\n",
    "\n",
    "Delhi_no2 = Delhi_weekly[['ds', 'no2']]\n",
    "Delhi_no2.rename(columns = {'no2':'y'}, inplace = True)\n",
    "\n",
    "Delhi_so2 = Delhi_weekly[['ds', 'so2']]\n",
    "Delhi_so2.rename(columns = {'so2':'y'}, inplace = True)\n",
    "\n",
    "Delhi_pm10 = Delhi_weekly[['ds', 'pm10']]\n",
    "Delhi_pm10.rename(columns = {'pm10':'y'}, inplace = True)\n",
    "\n",
    "Delhi_pm25 = Delhi_weekly[['ds', 'pm25']]\n",
    "Delhi_pm25.rename(columns = {'pm25':'y'}, inplace = True)\n",
    "\n",
    "datasets = [Delhi_o3, Delhi_no2, Delhi_so2, Delhi_pm10, Delhi_pm25]"
   ]
  },
  {
   "cell_type": "code",
   "execution_count": 6,
   "metadata": {
    "scrolled": false
   },
   "outputs": [
    {
     "name": "stderr",
     "output_type": "stream",
     "text": [
      "INFO:fbprophet:Disabling weekly seasonality. Run prophet with weekly_seasonality=True to override this.\n",
      "INFO:fbprophet:Disabling daily seasonality. Run prophet with daily_seasonality=True to override this.\n",
      "INFO:fbprophet:Disabling weekly seasonality. Run prophet with weekly_seasonality=True to override this.\n",
      "INFO:fbprophet:Disabling daily seasonality. Run prophet with daily_seasonality=True to override this.\n"
     ]
    },
    {
     "name": "stdout",
     "output_type": "stream",
     "text": [
      "          ds      yhat  yhat_lower  yhat_upper\n",
      "0 2020-10-11  0.180140    0.106330    0.253165\n",
      "1 2020-10-18  0.175464    0.104994    0.246037\n",
      "2 2020-10-25  0.168045    0.099351    0.244726\n",
      "3 2020-11-01  0.160826    0.089633    0.231748\n",
      "4 2020-11-08  0.155573    0.082987    0.229231\n",
      "          ds         y\n",
      "0 2020-10-11  0.234027\n",
      "1 2020-10-18  0.149677\n",
      "2 2020-10-25  0.146447\n",
      "3 2020-11-01  0.143575\n",
      "4 2020-11-08  0.091529\n",
      "FB Prophet RMSE for Delhi[o3]: 0.06439994913932223\n",
      "\n",
      "FB Prophet MSE for Delhi[o3]: 0.00414735344914729\n",
      "\n",
      "FB Prophet MAE for Delhi[o3]: 0.05239568025710204\n",
      "\n"
     ]
    },
    {
     "name": "stderr",
     "output_type": "stream",
     "text": [
      "INFO:fbprophet:Disabling weekly seasonality. Run prophet with weekly_seasonality=True to override this.\n",
      "INFO:fbprophet:Disabling daily seasonality. Run prophet with daily_seasonality=True to override this.\n"
     ]
    },
    {
     "name": "stdout",
     "output_type": "stream",
     "text": [
      "          ds      yhat  yhat_lower  yhat_upper\n",
      "0 2020-10-11  0.116464    0.033652    0.200549\n",
      "1 2020-10-18  0.131385    0.049335    0.217280\n",
      "2 2020-10-25  0.142478    0.052090    0.226249\n",
      "3 2020-11-01  0.142467    0.059637    0.228116\n",
      "4 2020-11-08  0.135243    0.049707    0.213693\n",
      "          ds         y\n",
      "0 2020-10-11  0.182876\n",
      "1 2020-10-18  0.266170\n",
      "2 2020-10-25  0.364821\n",
      "3 2020-11-01  0.374593\n",
      "4 2020-11-08  0.419265\n",
      "FB Prophet RMSE for Delhi[no2]: 0.16467175562223468\n",
      "\n",
      "FB Prophet MSE for Delhi[no2]: 0.027116787099708977\n",
      "\n",
      "FB Prophet MAE for Delhi[no2]: 0.14404407975864605\n",
      "\n"
     ]
    },
    {
     "name": "stderr",
     "output_type": "stream",
     "text": [
      "INFO:fbprophet:Disabling weekly seasonality. Run prophet with weekly_seasonality=True to override this.\n",
      "INFO:fbprophet:Disabling daily seasonality. Run prophet with daily_seasonality=True to override this.\n"
     ]
    },
    {
     "name": "stdout",
     "output_type": "stream",
     "text": [
      "          ds      yhat  yhat_lower  yhat_upper\n",
      "0 2020-10-11  0.213183    0.087190    0.343060\n",
      "1 2020-10-18  0.223047    0.098381    0.352143\n",
      "2 2020-10-25  0.230736    0.111350    0.359494\n",
      "3 2020-11-01  0.232795    0.105811    0.365326\n",
      "4 2020-11-08  0.230981    0.105817    0.362952\n",
      "          ds         y\n",
      "0 2020-10-11  0.239038\n",
      "1 2020-10-18  0.249646\n",
      "2 2020-10-25  0.272277\n",
      "3 2020-11-01  0.231259\n",
      "4 2020-11-08  0.277935\n",
      "FB Prophet RMSE for Delhi[so2]: 0.06700278780181121\n",
      "\n",
      "FB Prophet MSE for Delhi[so2]: 0.004489373573214541\n",
      "\n",
      "FB Prophet MAE for Delhi[so2]: 0.05541519015682256\n",
      "\n"
     ]
    },
    {
     "name": "stderr",
     "output_type": "stream",
     "text": [
      "INFO:fbprophet:Disabling weekly seasonality. Run prophet with weekly_seasonality=True to override this.\n",
      "INFO:fbprophet:Disabling daily seasonality. Run prophet with daily_seasonality=True to override this.\n"
     ]
    },
    {
     "name": "stdout",
     "output_type": "stream",
     "text": [
      "          ds      yhat  yhat_lower  yhat_upper\n",
      "0 2020-10-11  0.090537    0.028851    0.155229\n",
      "1 2020-10-18  0.096846    0.029549    0.161595\n",
      "2 2020-10-25  0.111723    0.043907    0.171663\n",
      "3 2020-11-01  0.126756    0.062361    0.194200\n",
      "4 2020-11-08  0.130094    0.064196    0.198016\n",
      "          ds         y\n",
      "0 2020-10-11  0.119169\n",
      "1 2020-10-18  0.145182\n",
      "2 2020-10-25  0.173231\n",
      "3 2020-11-01  0.229182\n",
      "4 2020-11-08  0.329894\n",
      "FB Prophet RMSE for Delhi[pm10]: 0.13343678740432285\n",
      "\n",
      "FB Prophet MSE for Delhi[pm10]: 0.017805376232786455\n",
      "\n",
      "FB Prophet MAE for Delhi[pm10]: 0.11690114237996845\n",
      "\n",
      "          ds      yhat  yhat_lower  yhat_upper\n",
      "0 2020-10-11  0.213100    0.119072    0.304146\n",
      "1 2020-10-18  0.227977    0.134901    0.321942\n",
      "2 2020-10-25  0.252608    0.154850    0.348390\n",
      "3 2020-11-01  0.272917    0.184803    0.367335\n",
      "4 2020-11-08  0.275299    0.173401    0.368798\n",
      "          ds         y\n",
      "0 2020-10-11  0.250718\n",
      "1 2020-10-18  0.290415\n",
      "2 2020-10-25  0.334291\n",
      "3 2020-11-01  0.398537\n",
      "4 2020-11-08  0.500653\n",
      "FB Prophet RMSE for Delhi[pm25]: 0.20836176778898619\n",
      "\n",
      "FB Prophet MSE for Delhi[pm25]: 0.043414626276151405\n",
      "\n",
      "FB Prophet MAE for Delhi[pm25]: 0.18295454639484726\n",
      "\n"
     ]
    }
   ],
   "source": [
    "pollutants = ['o3', 'no2', 'so2', 'pm10', 'pm25']\n",
    "\n",
    "i=0\n",
    "\n",
    "#EVALUATE MODEL FOR EVERY POLLUTANT\n",
    "for data in datasets:\n",
    "    test, forecast, error = fbprophet_predict(data, pollutants[i])\n",
    "    \n",
    "    i = i+1"
   ]
  },
  {
   "cell_type": "markdown",
   "metadata": {},
   "source": [
    "## Monthly predictions"
   ]
  },
  {
   "cell_type": "code",
   "execution_count": 8,
   "metadata": {},
   "outputs": [],
   "source": [
    "Delhi_Data_uni.index = Delhi_Data_uni['ds']\n",
    "Delhi_Data_uni = Delhi_Data_uni.drop(['ds'],axis=1)\n",
    "\n",
    "Delhi_Data_uni.index = pd.to_datetime(Delhi_Data_uni.index)\n",
    "Delhi_monthly = Delhi_Data_uni.resample(\"1m\").mean().bfill()\n",
    "\n",
    "Delhi_monthly['ds'] = Delhi_monthly.index"
   ]
  },
  {
   "cell_type": "code",
   "execution_count": 9,
   "metadata": {},
   "outputs": [],
   "source": [
    "Delhi_o3 = Delhi_monthly[['ds', 'o3']]\n",
    "Delhi_o3.rename(columns = {'o3':'y'}, inplace = True)\n",
    "\n",
    "Delhi_no2 = Delhi_monthly[['ds', 'no2']]\n",
    "Delhi_no2.rename(columns = {'no2':'y'}, inplace = True)\n",
    "\n",
    "Delhi_so2 = Delhi_monthly[['ds', 'so2']]\n",
    "Delhi_so2.rename(columns = {'so2':'y'}, inplace = True)\n",
    "\n",
    "Delhi_pm10 = Delhi_monthly[['ds', 'pm10']]\n",
    "Delhi_pm10.rename(columns = {'pm10':'y'}, inplace = True)\n",
    "\n",
    "Delhi_pm25 = Delhi_monthly[['ds', 'pm25']]\n",
    "Delhi_pm25.rename(columns = {'pm25':'y'}, inplace = True)\n",
    "\n",
    "datasets = [Delhi_o3, Delhi_no2, Delhi_so2, Delhi_pm10, Delhi_pm25]"
   ]
  },
  {
   "cell_type": "code",
   "execution_count": 10,
   "metadata": {
    "scrolled": false
   },
   "outputs": [
    {
     "name": "stderr",
     "output_type": "stream",
     "text": [
      "INFO:fbprophet:Disabling weekly seasonality. Run prophet with weekly_seasonality=True to override this.\n",
      "INFO:fbprophet:Disabling daily seasonality. Run prophet with daily_seasonality=True to override this.\n",
      "INFO:fbprophet:Disabling weekly seasonality. Run prophet with weekly_seasonality=True to override this.\n",
      "INFO:fbprophet:Disabling daily seasonality. Run prophet with daily_seasonality=True to override this.\n"
     ]
    },
    {
     "name": "stdout",
     "output_type": "stream",
     "text": [
      "          ds      yhat  yhat_lower  yhat_upper\n",
      "0 2020-10-31  0.134751    0.074575    0.197104\n",
      "1 2020-11-30  0.140884    0.079035    0.207245\n",
      "2 2020-12-31  0.132913    0.068817    0.198429\n",
      "3 2021-01-31  0.172737    0.108687    0.233858\n",
      "4 2021-02-28  0.178952    0.114175    0.243246\n",
      "          ds         y\n",
      "0 2020-10-31  0.178149\n",
      "1 2020-11-30  0.141206\n",
      "2 2020-12-31  0.138353\n",
      "3 2021-01-31  0.125061\n",
      "4 2021-02-28  0.127872\n",
      "FB Prophet RMSE for Delhi[o3]: 0.03208520965740348\n",
      "\n",
      "FB Prophet MSE for Delhi[o3]: 0.0010294606787595376\n",
      "\n",
      "FB Prophet MAE for Delhi[o3]: 0.0264605617944996\n",
      "\n"
     ]
    },
    {
     "name": "stderr",
     "output_type": "stream",
     "text": [
      "INFO:fbprophet:Disabling weekly seasonality. Run prophet with weekly_seasonality=True to override this.\n",
      "INFO:fbprophet:Disabling daily seasonality. Run prophet with daily_seasonality=True to override this.\n"
     ]
    },
    {
     "name": "stdout",
     "output_type": "stream",
     "text": [
      "          ds      yhat  yhat_lower  yhat_upper\n",
      "0 2020-10-31  0.220035    0.138337    0.300212\n",
      "1 2020-11-30  0.209227    0.120502    0.290121\n",
      "2 2020-12-31  0.207870    0.130061    0.291103\n",
      "3 2021-01-31  0.191962    0.112119    0.277635\n",
      "4 2021-02-28  0.176685    0.092020    0.262753\n",
      "          ds         y\n",
      "0 2020-10-31  0.276768\n",
      "1 2020-11-30  0.348371\n",
      "2 2020-12-31  0.289429\n",
      "3 2021-01-31  0.226752\n",
      "4 2021-02-28  0.270242\n",
      "FB Prophet RMSE for Delhi[no2]: 0.07935782332428408\n",
      "\n",
      "FB Prophet MSE for Delhi[no2]: 0.0062976641227682865\n",
      "\n",
      "FB Prophet MAE for Delhi[no2]: 0.06929623171378627\n",
      "\n"
     ]
    },
    {
     "name": "stderr",
     "output_type": "stream",
     "text": [
      "INFO:fbprophet:Disabling weekly seasonality. Run prophet with weekly_seasonality=True to override this.\n",
      "INFO:fbprophet:Disabling daily seasonality. Run prophet with daily_seasonality=True to override this.\n"
     ]
    },
    {
     "name": "stdout",
     "output_type": "stream",
     "text": [
      "          ds      yhat  yhat_lower  yhat_upper\n",
      "0 2020-10-31  0.258399    0.163544    0.351768\n",
      "1 2020-11-30  0.237350    0.150228    0.325850\n",
      "2 2020-12-31  0.212579    0.110155    0.297892\n",
      "3 2021-01-31  0.224794    0.126548    0.321103\n",
      "4 2021-02-28  0.242686    0.154362    0.333390\n",
      "          ds         y\n",
      "0 2020-10-31  0.239221\n",
      "1 2020-11-30  0.253465\n",
      "2 2020-12-31  0.200575\n",
      "3 2021-01-31  0.169754\n",
      "4 2021-02-28  0.230552\n",
      "FB Prophet RMSE for Delhi[so2]: 0.07479067518971712\n",
      "\n",
      "FB Prophet MSE for Delhi[so2]: 0.005593645095333767\n",
      "\n",
      "FB Prophet MAE for Delhi[so2]: 0.059819654697993836\n",
      "\n"
     ]
    },
    {
     "name": "stderr",
     "output_type": "stream",
     "text": [
      "INFO:fbprophet:Disabling weekly seasonality. Run prophet with weekly_seasonality=True to override this.\n",
      "INFO:fbprophet:Disabling daily seasonality. Run prophet with daily_seasonality=True to override this.\n"
     ]
    },
    {
     "name": "stdout",
     "output_type": "stream",
     "text": [
      "          ds      yhat  yhat_lower  yhat_upper\n",
      "0 2020-10-31  0.216449    0.144014    0.292012\n",
      "1 2020-11-30  0.206364    0.132372    0.279373\n",
      "2 2020-12-31  0.204636    0.125717    0.278438\n",
      "3 2021-01-31  0.120992    0.047997    0.195466\n",
      "4 2021-02-28  0.108010    0.031047    0.191272\n",
      "          ds         y\n",
      "0 2020-10-31  0.156302\n",
      "1 2020-11-30  0.236487\n",
      "2 2020-12-31  0.183638\n",
      "3 2021-01-31  0.163391\n",
      "4 2021-02-28  0.148343\n",
      "FB Prophet RMSE for Delhi[pm10]: 0.04972749393680863\n",
      "\n",
      "FB Prophet MSE for Delhi[pm10]: 0.002472823653235339\n",
      "\n",
      "FB Prophet MAE for Delhi[pm10]: 0.04048140669240041\n",
      "\n",
      "          ds      yhat  yhat_lower  yhat_upper\n",
      "0 2020-10-31  0.392451    0.281905    0.506359\n",
      "1 2020-11-30  0.382726    0.263218    0.484403\n",
      "2 2020-12-31  0.388888    0.280257    0.502835\n",
      "3 2021-01-31  0.304044    0.193024    0.410321\n",
      "4 2021-02-28  0.248992    0.139703    0.359090\n",
      "          ds         y\n",
      "0 2020-10-31  0.304889\n",
      "1 2020-11-30  0.419257\n",
      "2 2020-12-31  0.405201\n",
      "3 2021-01-31  0.391874\n",
      "4 2021-02-28  0.320972\n",
      "FB Prophet RMSE for Delhi[pm25]: 0.07807310340392833\n",
      "\n",
      "FB Prophet MSE for Delhi[pm25]: 0.006095409475120484\n",
      "\n",
      "FB Prophet MAE for Delhi[pm25]: 0.06033616716277124\n",
      "\n"
     ]
    }
   ],
   "source": [
    "pollutants = ['o3', 'no2', 'so2', 'pm10', 'pm25']\n",
    "\n",
    "i=0\n",
    "\n",
    "#EVALUATE MODEL FOR EVERY POLLUTANT\n",
    "for data in datasets:\n",
    "    test, forecast, error = fbprophet_predict(data, pollutants[i])\n",
    "    \n",
    "    i = i+1"
   ]
  }
 ],
 "metadata": {
  "kernelspec": {
   "display_name": "Python 3 (ipykernel)",
   "language": "python",
   "name": "python3"
  },
  "language_info": {
   "codemirror_mode": {
    "name": "ipython",
    "version": 3
   },
   "file_extension": ".py",
   "mimetype": "text/x-python",
   "name": "python",
   "nbconvert_exporter": "python",
   "pygments_lexer": "ipython3",
   "version": "3.8.5"
  },
  "latex_envs": {
   "LaTeX_envs_menu_present": true,
   "autoclose": false,
   "autocomplete": true,
   "bibliofile": "biblio.bib",
   "cite_by": "apalike",
   "current_citInitial": 1,
   "eqLabelWithNumbers": true,
   "eqNumInitial": 1,
   "hotkeys": {
    "equation": "Ctrl-E",
    "itemize": "Ctrl-I"
   },
   "labels_anchors": false,
   "latex_user_defs": false,
   "report_style_numbering": false,
   "user_envs_cfg": false
  }
 },
 "nbformat": 4,
 "nbformat_minor": 4
}
