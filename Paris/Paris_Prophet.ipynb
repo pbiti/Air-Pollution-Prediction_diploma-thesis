{
 "cells": [
  {
   "cell_type": "code",
   "execution_count": 1,
   "metadata": {},
   "outputs": [],
   "source": [
    "#import libraries\n",
    "import pandas as pd\n",
    "import numpy as np\n",
    "import matplotlib.pyplot as plt\n",
    "import seaborn as sns\n",
    "import numpy as np, pandas as pd\n",
    "from fbprophet import Prophet\n",
    "import math\n",
    "from sklearn.metrics import mean_squared_error, mean_absolute_error\n",
    "from matplotlib import pyplot\n",
    "from pmdarima.arima.utils import ndiffs\n",
    "from statsmodels.tsa.stattools import adfuller\n",
    "\n",
    "import warnings\n",
    "warnings.filterwarnings(\"ignore\")"
   ]
  },
  {
   "cell_type": "code",
   "execution_count": 11,
   "metadata": {},
   "outputs": [],
   "source": [
    "#DATA PREPARATION FOR UNIVARIATE PROPHET MODEL\n",
    "\n",
    "#GATHER Paris DATA FROM ALL AVAILABLE YEARS\n",
    "Paris_Data = pd.read_csv('Paris_data.csv')\n",
    "Paris_Data.rename(columns = {Paris_Data.columns[0]:'ds'}, inplace = True)\n",
    "\n",
    "#KEEP ONLY THE POLLUTANTS COLUMNS\n",
    "cols=['pm25', 'pm10', 'no2', 'o3', 'so2', 'ds']\n",
    "\n",
    "#MAKE VALUES NUMERIC\n",
    "Paris_Data_uni = Paris_Data.loc[:, Paris_Data.columns.intersection(cols)]\n",
    "Paris_Data_uni[['pm25', 'pm10', 'no2', 'o3', 'so2']] = Paris_Data_uni[['pm25', 'pm10', 'no2', 'o3', 'so2']].apply(pd.to_numeric, errors='coerce')\n",
    "\n",
    "#FILL NAN VALUES\n",
    "Paris_Data_uni = Paris_Data_uni.iloc[1: , :]\n",
    "\n",
    "#SOME VALUES ARE EMPTY, BUT NOT RECOGNIZED AS NAN. REPLACE EMPTY VALUES WITH NAN TO FILL THEM LATER\n",
    "Paris_Data_uni = Paris_Data_uni.replace(r'^\\s*$', np.nan, regex=True)\n",
    "Paris_Data_uni = Paris_Data_uni.fillna(method='ffill')\n",
    "Paris_Data_uni = Paris_Data_uni.fillna(method='bfill')\n",
    "\n",
    "#REMOVE DUPLICATE VALUES\n",
    "Paris_Data_uni = Paris_Data_uni[~Paris_Data_uni.index.duplicated(keep='first')]\n",
    "\n",
    "#Fb prophet model predicts univariate time series. It requires that the Date index column is named 'ds'\n",
    "#and the values column is named 'y'\n",
    "Paris_Data_uni['ds'] = pd.DatetimeIndex(Paris_Data_uni['ds'])"
   ]
  },
  {
   "cell_type": "code",
   "execution_count": 3,
   "metadata": {},
   "outputs": [
    {
     "data": {
      "text/html": [
       "<div>\n",
       "<style scoped>\n",
       "    .dataframe tbody tr th:only-of-type {\n",
       "        vertical-align: middle;\n",
       "    }\n",
       "\n",
       "    .dataframe tbody tr th {\n",
       "        vertical-align: top;\n",
       "    }\n",
       "\n",
       "    .dataframe thead th {\n",
       "        text-align: right;\n",
       "    }\n",
       "</style>\n",
       "<table border=\"1\" class=\"dataframe\">\n",
       "  <thead>\n",
       "    <tr style=\"text-align: right;\">\n",
       "      <th></th>\n",
       "      <th>ds</th>\n",
       "      <th>no2</th>\n",
       "      <th>o3</th>\n",
       "      <th>pm10</th>\n",
       "      <th>pm25</th>\n",
       "      <th>so2</th>\n",
       "    </tr>\n",
       "  </thead>\n",
       "  <tbody>\n",
       "    <tr>\n",
       "      <th>1</th>\n",
       "      <td>2014-12-30</td>\n",
       "      <td>0.567033</td>\n",
       "      <td>0.086777</td>\n",
       "      <td>0.338235</td>\n",
       "      <td>0.372549</td>\n",
       "      <td>0.204082</td>\n",
       "    </tr>\n",
       "    <tr>\n",
       "      <th>2</th>\n",
       "      <td>2014-12-31</td>\n",
       "      <td>0.778022</td>\n",
       "      <td>0.070248</td>\n",
       "      <td>0.544118</td>\n",
       "      <td>0.542484</td>\n",
       "      <td>0.204082</td>\n",
       "    </tr>\n",
       "    <tr>\n",
       "      <th>3</th>\n",
       "      <td>2015-01-01</td>\n",
       "      <td>0.679121</td>\n",
       "      <td>0.188017</td>\n",
       "      <td>0.529412</td>\n",
       "      <td>0.666667</td>\n",
       "      <td>0.153061</td>\n",
       "    </tr>\n",
       "    <tr>\n",
       "      <th>4</th>\n",
       "      <td>2015-01-02</td>\n",
       "      <td>0.567033</td>\n",
       "      <td>0.128099</td>\n",
       "      <td>0.308824</td>\n",
       "      <td>0.405229</td>\n",
       "      <td>0.102041</td>\n",
       "    </tr>\n",
       "    <tr>\n",
       "      <th>5</th>\n",
       "      <td>2015-01-03</td>\n",
       "      <td>0.356044</td>\n",
       "      <td>0.163223</td>\n",
       "      <td>0.102941</td>\n",
       "      <td>0.228758</td>\n",
       "      <td>0.051020</td>\n",
       "    </tr>\n",
       "    <tr>\n",
       "      <th>...</th>\n",
       "      <td>...</td>\n",
       "      <td>...</td>\n",
       "      <td>...</td>\n",
       "      <td>...</td>\n",
       "      <td>...</td>\n",
       "      <td>...</td>\n",
       "    </tr>\n",
       "    <tr>\n",
       "      <th>1869</th>\n",
       "      <td>2022-03-14</td>\n",
       "      <td>0.285714</td>\n",
       "      <td>0.450413</td>\n",
       "      <td>0.161765</td>\n",
       "      <td>0.156863</td>\n",
       "      <td>0.020408</td>\n",
       "    </tr>\n",
       "    <tr>\n",
       "      <th>1870</th>\n",
       "      <td>2022-03-15</td>\n",
       "      <td>0.463736</td>\n",
       "      <td>0.198347</td>\n",
       "      <td>0.147059</td>\n",
       "      <td>0.235294</td>\n",
       "      <td>0.020408</td>\n",
       "    </tr>\n",
       "    <tr>\n",
       "      <th>1871</th>\n",
       "      <td>2022-03-16</td>\n",
       "      <td>0.373626</td>\n",
       "      <td>0.126033</td>\n",
       "      <td>0.397059</td>\n",
       "      <td>0.326797</td>\n",
       "      <td>0.020408</td>\n",
       "    </tr>\n",
       "    <tr>\n",
       "      <th>1872</th>\n",
       "      <td>2022-03-17</td>\n",
       "      <td>0.178022</td>\n",
       "      <td>0.469008</td>\n",
       "      <td>0.147059</td>\n",
       "      <td>0.183007</td>\n",
       "      <td>0.020408</td>\n",
       "    </tr>\n",
       "    <tr>\n",
       "      <th>1873</th>\n",
       "      <td>2022-03-18</td>\n",
       "      <td>0.303297</td>\n",
       "      <td>0.235537</td>\n",
       "      <td>0.264706</td>\n",
       "      <td>0.307190</td>\n",
       "      <td>0.020408</td>\n",
       "    </tr>\n",
       "  </tbody>\n",
       "</table>\n",
       "<p>1873 rows × 6 columns</p>\n",
       "</div>"
      ],
      "text/plain": [
       "             ds       no2        o3      pm10      pm25       so2\n",
       "1    2014-12-30  0.567033  0.086777  0.338235  0.372549  0.204082\n",
       "2    2014-12-31  0.778022  0.070248  0.544118  0.542484  0.204082\n",
       "3    2015-01-01  0.679121  0.188017  0.529412  0.666667  0.153061\n",
       "4    2015-01-02  0.567033  0.128099  0.308824  0.405229  0.102041\n",
       "5    2015-01-03  0.356044  0.163223  0.102941  0.228758  0.051020\n",
       "...         ...       ...       ...       ...       ...       ...\n",
       "1869 2022-03-14  0.285714  0.450413  0.161765  0.156863  0.020408\n",
       "1870 2022-03-15  0.463736  0.198347  0.147059  0.235294  0.020408\n",
       "1871 2022-03-16  0.373626  0.126033  0.397059  0.326797  0.020408\n",
       "1872 2022-03-17  0.178022  0.469008  0.147059  0.183007  0.020408\n",
       "1873 2022-03-18  0.303297  0.235537  0.264706  0.307190  0.020408\n",
       "\n",
       "[1873 rows x 6 columns]"
      ]
     },
     "execution_count": 3,
     "metadata": {},
     "output_type": "execute_result"
    }
   ],
   "source": [
    "Paris_Data_uni"
   ]
  },
  {
   "cell_type": "code",
   "execution_count": 4,
   "metadata": {},
   "outputs": [
    {
     "name": "stdout",
     "output_type": "stream",
     "text": [
      "Check if Paris_Data is stationary :\n",
      "p-value for no2 : 0.000088\n",
      "p-value for o3 : 0.000176\n",
      "p-value for so2 : 0.000694\n",
      "p-value for pm10 : 0.000000\n",
      "p-value for pm25 : 0.000000\n"
     ]
    }
   ],
   "source": [
    "#Check data for stationarity to apply the ARIMA model.\n",
    "\n",
    "#The null hypothesis is that the time series is non-stationary.\n",
    "#Using the Augmented Dickey Fuller test (adfuller()) we can check for stationarity.\n",
    "#If p-value < significance level(0.05), the we reject the null hypothesis.\n",
    "#Otherwise, the time series is non-stationary and needs differencing.\n",
    "\n",
    "print(\"Check if Paris_Data is stationary :\")\n",
    "for col in ['no2', 'o3', 'so2', 'pm10', 'pm25']:\n",
    "    result = adfuller(Paris_Data[col])\n",
    "    print('p-value for ' + col + ' : %f' % result[1])"
   ]
  },
  {
   "cell_type": "code",
   "execution_count": 6,
   "metadata": {},
   "outputs": [],
   "source": [
    "def fbprophet_predict(time_series, col):\n",
    "    \n",
    "    #CREATE MODEL\n",
    "    model = Prophet()\n",
    "    \n",
    "    #SPLIT TO TRAIN AND TEST PORTIONS\n",
    "    train_size = 0.8\n",
    "    train = time_series[:int(train_size*(len(time_series)))]\n",
    "    test = time_series[int(train_size*(len(time_series))):]\n",
    "    \n",
    "    #FIT TRAIN DATA TO MODEL\n",
    "    model.fit(train)\n",
    "    \n",
    "    #PREDICT THE TEST PORTION. THE PARAMETER IN THE PREDICT FUNCTION IS THE TIME INTERVAL TO PREDICT\n",
    "    forecast = model.predict(test[['ds']])\n",
    "    \n",
    "    #FORECAST PREVIEW. 'ds' IS THE DAILY INDEX, 'yhat' IS THE FORECAST, 'yhat_lower' and 'yhat_upper' ARE THE\n",
    "    #LOWER AND UPPER BOUND OF THE FORECASTED VALUE RESPECTIVELY.\n",
    "    print(forecast[['ds', 'yhat', 'yhat_lower', 'yhat_upper']].head())\n",
    "    print(test.reset_index(drop=True).head())\n",
    "    \n",
    "    #COMPUTE RMSE OF THE FORECASTED AND ACTUAL VALUE\n",
    "    rmse = math.sqrt(mean_squared_error(test[['y']], forecast[['yhat']]))\n",
    "    mse = mean_squared_error(test[['y']], forecast[['yhat']])\n",
    "    mae = mean_absolute_error(test[['y']], forecast[['yhat']])\n",
    "    \n",
    "    print(\"FB Prophet RMSE for Paris[\" + col + \"]: \" + str(rmse) + \"\\n\")\n",
    "    print(\"FB Prophet MSE for Paris[\" + col + \"]: \" + str(mse) + \"\\n\")\n",
    "    print(\"FB Prophet MAE for Paris[\" + col + \"]: \" + str(mae) + \"\\n\")\n",
    "\n",
    "    return test, forecast, rmse"
   ]
  },
  {
   "cell_type": "code",
   "execution_count": 6,
   "metadata": {},
   "outputs": [],
   "source": [
    "#FB PROPHET REQUIRES THE DATAFRAME TO HAVE TWO COLUMNS. 'ds' AND 'y', 'ds' IS THE TIME INDEX AND 'y' IS THE\n",
    "#VALUE OF THE POLLUTANT\n",
    "\n",
    "#RENAME COLUMNS TO FIT TO THE PROPHET MODEL\n",
    "Paris_o3 = Paris_Data_uni[['ds', 'o3']]\n",
    "Paris_o3.rename(columns = {'o3':'y'}, inplace = True)\n",
    "\n",
    "Paris_no2 = Paris_Data_uni[['ds', 'no2']]\n",
    "Paris_no2.rename(columns = {'no2':'y'}, inplace = True)\n",
    "\n",
    "Paris_so2 = Paris_Data_uni[['ds', 'so2']]\n",
    "Paris_so2.rename(columns = {'so2':'y'}, inplace = True)\n",
    "\n",
    "Paris_pm10 = Paris_Data_uni[['ds', 'pm10']]\n",
    "Paris_pm10.rename(columns = {'pm10':'y'}, inplace = True)\n",
    "\n",
    "Paris_pm25 = Paris_Data_uni[['ds', 'pm25']]\n",
    "Paris_pm25.rename(columns = {'pm25':'y'}, inplace = True)\n",
    "\n",
    "datasets = [Paris_o3, Paris_no2, Paris_so2, Paris_pm10, Paris_pm25]"
   ]
  },
  {
   "cell_type": "code",
   "execution_count": 7,
   "metadata": {
    "scrolled": false
   },
   "outputs": [
    {
     "name": "stderr",
     "output_type": "stream",
     "text": [
      "INFO:fbprophet:Disabling daily seasonality. Run prophet with daily_seasonality=True to override this.\n",
      "INFO:fbprophet:Disabling daily seasonality. Run prophet with daily_seasonality=True to override this.\n"
     ]
    },
    {
     "name": "stdout",
     "output_type": "stream",
     "text": [
      "          ds      yhat  yhat_lower  yhat_upper\n",
      "0 2021-02-11  0.304903    0.146571    0.476278\n",
      "1 2021-02-12  0.302925    0.148497    0.469827\n",
      "2 2021-02-13  0.324316    0.155893    0.490084\n",
      "3 2021-02-14  0.349136    0.181786    0.521421\n",
      "4 2021-02-15  0.328419    0.166795    0.490660\n",
      "          ds         y\n",
      "0 2021-02-11  0.334711\n",
      "1 2021-02-12  0.390496\n",
      "2 2021-02-13  0.413223\n",
      "3 2021-02-14  0.448347\n",
      "4 2021-02-15  0.210744\n",
      "FB Prophet RMSE for Paris[o3]: 0.14040385530622787\n",
      "\n",
      "FB Prophet MSE for Paris[o3]: 0.019713242584852173\n",
      "\n",
      "FB Prophet MAE for Paris[o3]: 0.11053011715284723\n",
      "\n"
     ]
    },
    {
     "name": "stderr",
     "output_type": "stream",
     "text": [
      "INFO:fbprophet:Disabling daily seasonality. Run prophet with daily_seasonality=True to override this.\n"
     ]
    },
    {
     "name": "stdout",
     "output_type": "stream",
     "text": [
      "          ds      yhat  yhat_lower  yhat_upper\n",
      "0 2021-02-11  0.281792    0.114005    0.468590\n",
      "1 2021-02-12  0.297582    0.120256    0.477113\n",
      "2 2021-02-13  0.225971    0.055031    0.406273\n",
      "3 2021-02-14  0.165142   -0.000622    0.346188\n",
      "4 2021-02-15  0.231551    0.058717    0.406649\n",
      "          ds         y\n",
      "0 2021-02-11  0.283516\n",
      "1 2021-02-12  0.215385\n",
      "2 2021-02-13  0.261538\n",
      "3 2021-02-14  0.226374\n",
      "4 2021-02-15  0.367033\n",
      "FB Prophet RMSE for Paris[no2]: 0.15661167644307863\n",
      "\n",
      "FB Prophet MSE for Paris[no2]: 0.024527217198311548\n",
      "\n",
      "FB Prophet MAE for Paris[no2]: 0.11484689816159183\n",
      "\n"
     ]
    },
    {
     "name": "stderr",
     "output_type": "stream",
     "text": [
      "INFO:fbprophet:Disabling daily seasonality. Run prophet with daily_seasonality=True to override this.\n"
     ]
    },
    {
     "name": "stdout",
     "output_type": "stream",
     "text": [
      "          ds      yhat  yhat_lower  yhat_upper\n",
      "0 2021-02-11  0.085145    0.030368    0.140751\n",
      "1 2021-02-12  0.082198    0.025229    0.136228\n",
      "2 2021-02-13  0.076322    0.022860    0.128092\n",
      "3 2021-02-14  0.072999    0.016752    0.128812\n",
      "4 2021-02-15  0.080989    0.019371    0.138714\n",
      "          ds         y\n",
      "0 2021-02-11  0.051020\n",
      "1 2021-02-12  0.153061\n",
      "2 2021-02-13  0.071429\n",
      "3 2021-02-14  0.173469\n",
      "4 2021-02-15  0.091837\n",
      "FB Prophet RMSE for Paris[so2]: 0.06615917148026548\n",
      "\n",
      "FB Prophet MSE for Paris[so2]: 0.004377035970955174\n",
      "\n",
      "FB Prophet MAE for Paris[so2]: 0.05587873154289234\n",
      "\n"
     ]
    },
    {
     "name": "stderr",
     "output_type": "stream",
     "text": [
      "INFO:fbprophet:Disabling daily seasonality. Run prophet with daily_seasonality=True to override this.\n"
     ]
    },
    {
     "name": "stdout",
     "output_type": "stream",
     "text": [
      "          ds      yhat  yhat_lower  yhat_upper\n",
      "0 2021-02-11  0.253615    0.073846    0.423745\n",
      "1 2021-02-12  0.270857    0.107568    0.448472\n",
      "2 2021-02-13  0.227219    0.044179    0.404930\n",
      "3 2021-02-14  0.196381    0.021692    0.366414\n",
      "4 2021-02-15  0.222861    0.046887    0.408729\n",
      "          ds         y\n",
      "0 2021-02-11  0.264706\n",
      "1 2021-02-12  0.205882\n",
      "2 2021-02-13  0.205882\n",
      "3 2021-02-14  0.220588\n",
      "4 2021-02-15  0.294118\n",
      "FB Prophet RMSE for Paris[pm10]: 0.13933367835111757\n",
      "\n",
      "FB Prophet MSE for Paris[pm10]: 0.019413873922852688\n",
      "\n",
      "FB Prophet MAE for Paris[pm10]: 0.10222987534025897\n",
      "\n",
      "          ds      yhat  yhat_lower  yhat_upper\n",
      "0 2021-02-11  0.281457    0.093659    0.457265\n",
      "1 2021-02-12  0.293338    0.117114    0.486780\n",
      "2 2021-02-13  0.282900    0.097348    0.466346\n",
      "3 2021-02-14  0.259985    0.075051    0.440855\n",
      "4 2021-02-15  0.254184    0.071365    0.437703\n",
      "          ds         y\n",
      "0 2021-02-11  0.359477\n",
      "1 2021-02-12  0.274510\n",
      "2 2021-02-13  0.274510\n",
      "3 2021-02-14  0.313725\n",
      "4 2021-02-15  0.313725\n",
      "FB Prophet RMSE for Paris[pm25]: 0.1356600767013619\n",
      "\n",
      "FB Prophet MSE for Paris[pm25]: 0.018403656410619394\n",
      "\n",
      "FB Prophet MAE for Paris[pm25]: 0.10494178560075348\n",
      "\n"
     ]
    }
   ],
   "source": [
    "pollutants = ['o3', 'no2', 'so2', 'pm10', 'pm25']\n",
    "\n",
    "i=0\n",
    "\n",
    "#EVALUATE MODEL FOR EVERY POLLUTANT\n",
    "for data in datasets:\n",
    "    test, forecast, error = fbprophet_predict(data, pollutants[i])\n",
    "    i = i+1"
   ]
  },
  {
   "cell_type": "markdown",
   "metadata": {},
   "source": [
    "### Repeat process but this time train model with the same amount of data as Athens, to prove that the model returns better results due to bigger amount of data."
   ]
  },
  {
   "cell_type": "code",
   "execution_count": 8,
   "metadata": {},
   "outputs": [],
   "source": [
    "import pandas as pd\n",
    "Athens_Data = pd.read_csv('Athens_Data.csv', index_col=0)"
   ]
  },
  {
   "cell_type": "code",
   "execution_count": 9,
   "metadata": {},
   "outputs": [
    {
     "data": {
      "text/plain": [
       "839"
      ]
     },
     "execution_count": 9,
     "metadata": {},
     "output_type": "execute_result"
    }
   ],
   "source": [
    "len(Athens_Data)"
   ]
  },
  {
   "cell_type": "code",
   "execution_count": 10,
   "metadata": {},
   "outputs": [],
   "source": [
    "data_to_drop = len(Paris_Data) - len(Athens_Data)"
   ]
  },
  {
   "cell_type": "code",
   "execution_count": 11,
   "metadata": {},
   "outputs": [
    {
     "data": {
      "text/plain": [
       "839"
      ]
     },
     "execution_count": 11,
     "metadata": {},
     "output_type": "execute_result"
    }
   ],
   "source": [
    "Paris_less_data = Paris_Data.iloc[data_to_drop: , :]\n",
    "len(Paris_less_data)"
   ]
  },
  {
   "cell_type": "code",
   "execution_count": 12,
   "metadata": {},
   "outputs": [
    {
     "data": {
      "text/html": [
       "<div>\n",
       "<style scoped>\n",
       "    .dataframe tbody tr th:only-of-type {\n",
       "        vertical-align: middle;\n",
       "    }\n",
       "\n",
       "    .dataframe tbody tr th {\n",
       "        vertical-align: top;\n",
       "    }\n",
       "\n",
       "    .dataframe thead th {\n",
       "        text-align: right;\n",
       "    }\n",
       "</style>\n",
       "<table border=\"1\" class=\"dataframe\">\n",
       "  <thead>\n",
       "    <tr style=\"text-align: right;\">\n",
       "      <th></th>\n",
       "      <th>ds</th>\n",
       "      <th>no2</th>\n",
       "      <th>o3</th>\n",
       "      <th>pm10</th>\n",
       "      <th>pm25</th>\n",
       "      <th>so2</th>\n",
       "      <th>temp</th>\n",
       "      <th>dew</th>\n",
       "      <th>humidity</th>\n",
       "      <th>windspeed</th>\n",
       "      <th>winddir</th>\n",
       "    </tr>\n",
       "  </thead>\n",
       "  <tbody>\n",
       "    <tr>\n",
       "      <th>1035</th>\n",
       "      <td>2019-11-05</td>\n",
       "      <td>0.397802</td>\n",
       "      <td>0.291322</td>\n",
       "      <td>0.176471</td>\n",
       "      <td>0.176471</td>\n",
       "      <td>0.091837</td>\n",
       "      <td>0.360000</td>\n",
       "      <td>0.614035</td>\n",
       "      <td>0.770794</td>\n",
       "      <td>0.251908</td>\n",
       "      <td>0.604913</td>\n",
       "    </tr>\n",
       "    <tr>\n",
       "      <th>1036</th>\n",
       "      <td>2019-11-06</td>\n",
       "      <td>0.349451</td>\n",
       "      <td>0.171488</td>\n",
       "      <td>0.176471</td>\n",
       "      <td>0.254902</td>\n",
       "      <td>0.040816</td>\n",
       "      <td>0.376000</td>\n",
       "      <td>0.640351</td>\n",
       "      <td>0.799524</td>\n",
       "      <td>0.170483</td>\n",
       "      <td>0.733057</td>\n",
       "    </tr>\n",
       "    <tr>\n",
       "      <th>1037</th>\n",
       "      <td>2019-11-07</td>\n",
       "      <td>0.259341</td>\n",
       "      <td>0.295455</td>\n",
       "      <td>0.102941</td>\n",
       "      <td>0.124183</td>\n",
       "      <td>0.030612</td>\n",
       "      <td>0.344000</td>\n",
       "      <td>0.578947</td>\n",
       "      <td>0.726984</td>\n",
       "      <td>0.455471</td>\n",
       "      <td>0.595146</td>\n",
       "    </tr>\n",
       "    <tr>\n",
       "      <th>1038</th>\n",
       "      <td>2019-11-08</td>\n",
       "      <td>0.479121</td>\n",
       "      <td>0.107438</td>\n",
       "      <td>0.205882</td>\n",
       "      <td>0.228758</td>\n",
       "      <td>0.010204</td>\n",
       "      <td>0.277333</td>\n",
       "      <td>0.532164</td>\n",
       "      <td>0.786825</td>\n",
       "      <td>0.129771</td>\n",
       "      <td>0.413732</td>\n",
       "    </tr>\n",
       "    <tr>\n",
       "      <th>1039</th>\n",
       "      <td>2019-11-09</td>\n",
       "      <td>0.364835</td>\n",
       "      <td>0.165289</td>\n",
       "      <td>0.235294</td>\n",
       "      <td>0.300654</td>\n",
       "      <td>0.020408</td>\n",
       "      <td>0.266667</td>\n",
       "      <td>0.529240</td>\n",
       "      <td>0.817778</td>\n",
       "      <td>0.302799</td>\n",
       "      <td>0.632436</td>\n",
       "    </tr>\n",
       "    <tr>\n",
       "      <th>...</th>\n",
       "      <td>...</td>\n",
       "      <td>...</td>\n",
       "      <td>...</td>\n",
       "      <td>...</td>\n",
       "      <td>...</td>\n",
       "      <td>...</td>\n",
       "      <td>...</td>\n",
       "      <td>...</td>\n",
       "      <td>...</td>\n",
       "      <td>...</td>\n",
       "      <td>...</td>\n",
       "    </tr>\n",
       "    <tr>\n",
       "      <th>1869</th>\n",
       "      <td>2022-03-14</td>\n",
       "      <td>0.285714</td>\n",
       "      <td>0.450413</td>\n",
       "      <td>0.161765</td>\n",
       "      <td>0.156863</td>\n",
       "      <td>0.020408</td>\n",
       "      <td>0.357333</td>\n",
       "      <td>0.540936</td>\n",
       "      <td>0.603175</td>\n",
       "      <td>0.206107</td>\n",
       "      <td>0.444510</td>\n",
       "    </tr>\n",
       "    <tr>\n",
       "      <th>1870</th>\n",
       "      <td>2022-03-15</td>\n",
       "      <td>0.463736</td>\n",
       "      <td>0.198347</td>\n",
       "      <td>0.147059</td>\n",
       "      <td>0.235294</td>\n",
       "      <td>0.020408</td>\n",
       "      <td>0.373333</td>\n",
       "      <td>0.652047</td>\n",
       "      <td>0.847619</td>\n",
       "      <td>0.170483</td>\n",
       "      <td>0.311927</td>\n",
       "    </tr>\n",
       "    <tr>\n",
       "      <th>1871</th>\n",
       "      <td>2022-03-16</td>\n",
       "      <td>0.373626</td>\n",
       "      <td>0.126033</td>\n",
       "      <td>0.397059</td>\n",
       "      <td>0.326797</td>\n",
       "      <td>0.020408</td>\n",
       "      <td>0.402667</td>\n",
       "      <td>0.666667</td>\n",
       "      <td>0.793651</td>\n",
       "      <td>0.376590</td>\n",
       "      <td>0.438591</td>\n",
       "    </tr>\n",
       "    <tr>\n",
       "      <th>1872</th>\n",
       "      <td>2022-03-17</td>\n",
       "      <td>0.178022</td>\n",
       "      <td>0.469008</td>\n",
       "      <td>0.147059</td>\n",
       "      <td>0.183007</td>\n",
       "      <td>0.020408</td>\n",
       "      <td>0.338667</td>\n",
       "      <td>0.540936</td>\n",
       "      <td>0.614286</td>\n",
       "      <td>0.402036</td>\n",
       "      <td>0.371412</td>\n",
       "    </tr>\n",
       "    <tr>\n",
       "      <th>1873</th>\n",
       "      <td>2022-03-18</td>\n",
       "      <td>0.303297</td>\n",
       "      <td>0.235537</td>\n",
       "      <td>0.264706</td>\n",
       "      <td>0.307190</td>\n",
       "      <td>0.020408</td>\n",
       "      <td>0.360000</td>\n",
       "      <td>0.406433</td>\n",
       "      <td>0.315873</td>\n",
       "      <td>0.569975</td>\n",
       "      <td>0.109204</td>\n",
       "    </tr>\n",
       "  </tbody>\n",
       "</table>\n",
       "<p>839 rows × 11 columns</p>\n",
       "</div>"
      ],
      "text/plain": [
       "              ds       no2        o3      pm10      pm25       so2      temp  \\\n",
       "1035  2019-11-05  0.397802  0.291322  0.176471  0.176471  0.091837  0.360000   \n",
       "1036  2019-11-06  0.349451  0.171488  0.176471  0.254902  0.040816  0.376000   \n",
       "1037  2019-11-07  0.259341  0.295455  0.102941  0.124183  0.030612  0.344000   \n",
       "1038  2019-11-08  0.479121  0.107438  0.205882  0.228758  0.010204  0.277333   \n",
       "1039  2019-11-09  0.364835  0.165289  0.235294  0.300654  0.020408  0.266667   \n",
       "...          ...       ...       ...       ...       ...       ...       ...   \n",
       "1869  2022-03-14  0.285714  0.450413  0.161765  0.156863  0.020408  0.357333   \n",
       "1870  2022-03-15  0.463736  0.198347  0.147059  0.235294  0.020408  0.373333   \n",
       "1871  2022-03-16  0.373626  0.126033  0.397059  0.326797  0.020408  0.402667   \n",
       "1872  2022-03-17  0.178022  0.469008  0.147059  0.183007  0.020408  0.338667   \n",
       "1873  2022-03-18  0.303297  0.235537  0.264706  0.307190  0.020408  0.360000   \n",
       "\n",
       "           dew  humidity  windspeed   winddir  \n",
       "1035  0.614035  0.770794   0.251908  0.604913  \n",
       "1036  0.640351  0.799524   0.170483  0.733057  \n",
       "1037  0.578947  0.726984   0.455471  0.595146  \n",
       "1038  0.532164  0.786825   0.129771  0.413732  \n",
       "1039  0.529240  0.817778   0.302799  0.632436  \n",
       "...        ...       ...        ...       ...  \n",
       "1869  0.540936  0.603175   0.206107  0.444510  \n",
       "1870  0.652047  0.847619   0.170483  0.311927  \n",
       "1871  0.666667  0.793651   0.376590  0.438591  \n",
       "1872  0.540936  0.614286   0.402036  0.371412  \n",
       "1873  0.406433  0.315873   0.569975  0.109204  \n",
       "\n",
       "[839 rows x 11 columns]"
      ]
     },
     "execution_count": 12,
     "metadata": {},
     "output_type": "execute_result"
    }
   ],
   "source": [
    "Paris_less_data"
   ]
  },
  {
   "cell_type": "code",
   "execution_count": 13,
   "metadata": {
    "scrolled": false
   },
   "outputs": [
    {
     "name": "stderr",
     "output_type": "stream",
     "text": [
      "INFO:fbprophet:Disabling yearly seasonality. Run prophet with yearly_seasonality=True to override this.\n",
      "INFO:fbprophet:Disabling daily seasonality. Run prophet with daily_seasonality=True to override this.\n",
      "INFO:fbprophet:Disabling yearly seasonality. Run prophet with yearly_seasonality=True to override this.\n",
      "INFO:fbprophet:Disabling daily seasonality. Run prophet with daily_seasonality=True to override this.\n"
     ]
    },
    {
     "name": "stdout",
     "output_type": "stream",
     "text": [
      "          ds      yhat  yhat_lower  yhat_upper\n",
      "0 2021-09-06  0.566563    0.375406    0.735485\n",
      "1 2021-09-07  0.568175    0.408108    0.751513\n",
      "2 2021-09-08  0.585721    0.397458    0.780580\n",
      "3 2021-09-09  0.583086    0.398909    0.757503\n",
      "4 2021-09-10  0.583267    0.397971    0.768493\n",
      "           ds         y\n",
      "0  2021-09-06  0.617769\n",
      "1  2021-09-07  0.595041\n",
      "2  2021-09-08  0.719008\n",
      "3  2021-09-09  0.489669\n",
      "4  2021-09-10  0.433884\n",
      "FB Prophet RMSE for Paris[o3]: 0.4361973760740367\n",
      "\n",
      "FB Prophet MSE for Paris[o3]: 0.19026815089387458\n",
      "\n",
      "FB Prophet MAE for Paris[o3]: 0.39683500854401044\n",
      "\n"
     ]
    },
    {
     "name": "stderr",
     "output_type": "stream",
     "text": [
      "INFO:fbprophet:Disabling yearly seasonality. Run prophet with yearly_seasonality=True to override this.\n",
      "INFO:fbprophet:Disabling daily seasonality. Run prophet with daily_seasonality=True to override this.\n"
     ]
    },
    {
     "name": "stdout",
     "output_type": "stream",
     "text": [
      "          ds      yhat  yhat_lower  yhat_upper\n",
      "0 2021-09-06  0.143381   -0.005000    0.296172\n",
      "1 2021-09-07  0.180431    0.019570    0.340214\n",
      "2 2021-09-08  0.175753    0.021143    0.334819\n",
      "3 2021-09-09  0.176274    0.023176    0.328618\n",
      "4 2021-09-10  0.165014    0.012091    0.315173\n",
      "           ds         y\n",
      "0  2021-09-06  0.470330\n",
      "1  2021-09-07  0.404396\n",
      "2  2021-09-08  0.283516\n",
      "3  2021-09-09  0.232967\n",
      "4  2021-09-10  0.186813\n",
      "FB Prophet RMSE for Paris[no2]: 0.24653623502169442\n",
      "\n",
      "FB Prophet MSE for Paris[no2]: 0.06078011517867215\n",
      "\n",
      "FB Prophet MAE for Paris[no2]: 0.21234174186508983\n",
      "\n"
     ]
    },
    {
     "name": "stderr",
     "output_type": "stream",
     "text": [
      "INFO:fbprophet:Disabling yearly seasonality. Run prophet with yearly_seasonality=True to override this.\n",
      "INFO:fbprophet:Disabling daily seasonality. Run prophet with daily_seasonality=True to override this.\n"
     ]
    },
    {
     "name": "stdout",
     "output_type": "stream",
     "text": [
      "          ds      yhat  yhat_lower  yhat_upper\n",
      "0 2021-09-06  0.040428   -0.021738    0.110076\n",
      "1 2021-09-07  0.040146   -0.026781    0.109824\n",
      "2 2021-09-08  0.033680   -0.030401    0.102186\n",
      "3 2021-09-09  0.046439   -0.021474    0.109423\n",
      "4 2021-09-10  0.037743   -0.030273    0.105233\n",
      "           ds         y\n",
      "0  2021-09-06  0.061224\n",
      "1  2021-09-07  0.020408\n",
      "2  2021-09-08  0.020408\n",
      "3  2021-09-09  0.020408\n",
      "4  2021-09-10  0.020408\n",
      "FB Prophet RMSE for Paris[so2]: 0.057367997211116524\n",
      "\n",
      "FB Prophet MSE for Paris[so2]: 0.0032910871040146734\n",
      "\n",
      "FB Prophet MAE for Paris[so2]: 0.02509709309654034\n",
      "\n"
     ]
    },
    {
     "name": "stderr",
     "output_type": "stream",
     "text": [
      "INFO:fbprophet:Disabling yearly seasonality. Run prophet with yearly_seasonality=True to override this.\n",
      "INFO:fbprophet:Disabling daily seasonality. Run prophet with daily_seasonality=True to override this.\n"
     ]
    },
    {
     "name": "stdout",
     "output_type": "stream",
     "text": [
      "          ds      yhat  yhat_lower  yhat_upper\n",
      "0 2021-09-06  0.187531    0.036703    0.342162\n",
      "1 2021-09-07  0.204419    0.037965    0.367937\n",
      "2 2021-09-08  0.221535    0.061399    0.372842\n",
      "3 2021-09-09  0.203323    0.048359    0.357098\n",
      "4 2021-09-10  0.199551    0.037931    0.352610\n",
      "           ds         y\n",
      "0  2021-09-06  0.279412\n",
      "1  2021-09-07  0.294118\n",
      "2  2021-09-08  0.308824\n",
      "3  2021-09-09  0.220588\n",
      "4  2021-09-10  0.117647\n",
      "FB Prophet RMSE for Paris[pm10]: 0.14458849124806047\n",
      "\n",
      "FB Prophet MSE for Paris[pm10]: 0.02090583180139046\n",
      "\n",
      "FB Prophet MAE for Paris[pm10]: 0.10604562368566056\n",
      "\n",
      "          ds      yhat  yhat_lower  yhat_upper\n",
      "0 2021-09-06  0.166257    0.009858    0.322307\n",
      "1 2021-09-07  0.180823    0.020517    0.337962\n",
      "2 2021-09-08  0.194913    0.054607    0.347879\n",
      "3 2021-09-09  0.175504    0.015436    0.334302\n",
      "4 2021-09-10  0.177639    0.026039    0.336852\n",
      "           ds         y\n",
      "0  2021-09-06  0.281046\n",
      "1  2021-09-07  0.281046\n",
      "2  2021-09-08  0.313725\n",
      "3  2021-09-09  0.281046\n",
      "4  2021-09-10  0.111111\n",
      "FB Prophet RMSE for Paris[pm25]: 0.19087022399535294\n",
      "\n",
      "FB Prophet MSE for Paris[pm25]: 0.03643144240803621\n",
      "\n",
      "FB Prophet MAE for Paris[pm25]: 0.1383409169058534\n",
      "\n"
     ]
    }
   ],
   "source": [
    "Paris_o3 = Paris_less_data[['ds', 'o3']]\n",
    "Paris_o3.rename(columns = {'o3':'y'}, inplace = True)\n",
    "\n",
    "Paris_no2 = Paris_less_data[['ds', 'no2']]\n",
    "Paris_no2.rename(columns = {'no2':'y'}, inplace = True)\n",
    "\n",
    "Paris_so2 = Paris_less_data[['ds', 'so2']]\n",
    "Paris_so2.rename(columns = {'so2':'y'}, inplace = True)\n",
    "\n",
    "Paris_pm10 = Paris_less_data[['ds', 'pm10']]\n",
    "Paris_pm10.rename(columns = {'pm10':'y'}, inplace = True)\n",
    "\n",
    "Paris_pm25 = Paris_less_data[['ds', 'pm25']]\n",
    "Paris_pm25.rename(columns = {'pm25':'y'}, inplace = True)\n",
    "\n",
    "datasets = [Paris_o3, Paris_no2, Paris_so2, Paris_pm10, Paris_pm25]\n",
    "\n",
    "i=0\n",
    "\n",
    "#EVALUATE MODEL FOR EVERY POLLUTANT\n",
    "for data in datasets:\n",
    "    test, forecast, error = fbprophet_predict(data, pollutants[i])\n",
    "    i = i+1"
   ]
  },
  {
   "cell_type": "markdown",
   "metadata": {},
   "source": [
    "## Seasonal split"
   ]
  },
  {
   "cell_type": "markdown",
   "metadata": {},
   "source": [
    "The seasonal decomposition of the Athens data we can see that there is a seasonality in the monthly resampled data. Specifically, for each pollutant the seasonal length of the data is:\n",
    "- NO2: 12 months or 365 days\n",
    "- SO2: 12 months\n",
    "- O3: 12 months\n",
    "- PM25: 12 months\n",
    "- PM10: 12 months"
   ]
  },
  {
   "cell_type": "code",
   "execution_count": 16,
   "metadata": {},
   "outputs": [],
   "source": [
    "def fbprophet_predict_seasonal(time_series, col):\n",
    "    \n",
    "    #CREATE MODEL\n",
    "    model = Prophet()\n",
    "    time_series.index = time_series['ds']\n",
    "    #SPLIT TO TRAIN AND TEST PORTIONS\n",
    "    train, test = time_series['2019-12-01' : '2021-12-31'], time_series['2022-01-01' : '2022-03-18']\n",
    "    \n",
    "    #FIT TRAIN DATA TO MODEL\n",
    "    model.fit(train)\n",
    "    \n",
    "    #PREDICT THE TEST PORTION. THE PARAMETER IN THE PREDICT FUNCTION IS THE TIME INTERVAL TO PREDICT\n",
    "    forecast = model.predict(test[['ds']])\n",
    "    \n",
    "    #FORECAST PREVIEW. 'ds' IS THE DAILY INDEX, 'yhat' IS THE FORECAST, 'yhat_lower' and 'yhat_upper' ARE THE\n",
    "    #LOWER AND UPPER BOUND OF THE FORECASTED VALUE RESPECTIVELY.\n",
    "    print(forecast[['ds', 'yhat', 'yhat_lower', 'yhat_upper']].head())\n",
    "    print(test.reset_index(drop=True).head())\n",
    "    \n",
    "    #COMPUTE RMSE OF THE FORECASTED AND ACTUAL VALUE\n",
    "    rmse = math.sqrt(mean_squared_error(test[['y']], forecast[['yhat']]))\n",
    "    mse = mean_squared_error(test[['y']], forecast[['yhat']])\n",
    "    mae = mean_absolute_error(test[['y']], forecast[['yhat']])\n",
    "    \n",
    "    print(\"FB Prophet RMSE for Paris[\" + col + \"]: \" + str(rmse) + \"\\n\")\n",
    "    print(\"FB Prophet MSE for Paris[\" + col + \"]: \" + str(mse) + \"\\n\")\n",
    "    print(\"FB Prophet MAE for Paris[\" + col + \"]: \" + str(mae) + \"\\n\")\n",
    "\n",
    "    return test, forecast, rmse"
   ]
  },
  {
   "cell_type": "code",
   "execution_count": 17,
   "metadata": {},
   "outputs": [
    {
     "name": "stderr",
     "output_type": "stream",
     "text": [
      "INFO:fbprophet:Disabling daily seasonality. Run prophet with daily_seasonality=True to override this.\n",
      "INFO:fbprophet:Disabling daily seasonality. Run prophet with daily_seasonality=True to override this.\n"
     ]
    },
    {
     "name": "stdout",
     "output_type": "stream",
     "text": [
      "          ds      yhat  yhat_lower  yhat_upper\n",
      "0 2022-01-01  0.222058    0.052881    0.392880\n",
      "1 2022-01-02  0.214034    0.052761    0.367417\n",
      "2 2022-01-03  0.193336    0.034234    0.352133\n",
      "3 2022-01-04  0.187424    0.028188    0.343688\n",
      "4 2022-01-05  0.199751    0.046068    0.349868\n",
      "           ds         y\n",
      "0  2022-01-01  0.033058\n",
      "1  2022-01-02  0.276860\n",
      "2  2022-01-03  0.475207\n",
      "3  2022-01-04  0.438017\n",
      "4  2022-01-05  0.357438\n",
      "FB Prophet RMSE for Paris[o3]: 0.1497421780245382\n",
      "\n",
      "FB Prophet MSE for Paris[o3]: 0.022422719879532496\n",
      "\n",
      "FB Prophet MAE for Paris[o3]: 0.1266144652434164\n",
      "\n"
     ]
    },
    {
     "name": "stderr",
     "output_type": "stream",
     "text": [
      "INFO:fbprophet:Disabling daily seasonality. Run prophet with daily_seasonality=True to override this.\n"
     ]
    },
    {
     "name": "stdout",
     "output_type": "stream",
     "text": [
      "          ds      yhat  yhat_lower  yhat_upper\n",
      "0 2022-01-01  0.252954    0.111725    0.402650\n",
      "1 2022-01-02  0.205444    0.046422    0.357975\n",
      "2 2022-01-03  0.284564    0.126455    0.426771\n",
      "3 2022-01-04  0.329864    0.183207    0.492896\n",
      "4 2022-01-05  0.330182    0.187423    0.480070\n",
      "           ds         y\n",
      "0  2022-01-01  0.261538\n",
      "1  2022-01-02  0.145055\n",
      "2  2022-01-03  0.153846\n",
      "3  2022-01-04  0.184615\n",
      "4  2022-01-05  0.265934\n",
      "FB Prophet RMSE for Paris[no2]: 0.12738623386716266\n",
      "\n",
      "FB Prophet MSE for Paris[no2]: 0.01622725257885946\n",
      "\n",
      "FB Prophet MAE for Paris[no2]: 0.10344164149115218\n",
      "\n"
     ]
    },
    {
     "name": "stderr",
     "output_type": "stream",
     "text": [
      "INFO:fbprophet:Disabling daily seasonality. Run prophet with daily_seasonality=True to override this.\n"
     ]
    },
    {
     "name": "stdout",
     "output_type": "stream",
     "text": [
      "          ds      yhat  yhat_lower  yhat_upper\n",
      "0 2022-01-01  0.042705   -0.026407    0.112813\n",
      "1 2022-01-02  0.045044   -0.023190    0.112103\n",
      "2 2022-01-03  0.048299   -0.019418    0.116362\n",
      "3 2022-01-04  0.048778   -0.020188    0.114106\n",
      "4 2022-01-05  0.045093   -0.026235    0.107747\n",
      "           ds         y\n",
      "0  2022-01-01  0.010204\n",
      "1  2022-01-02  0.020408\n",
      "2  2022-01-03  0.010204\n",
      "3  2022-01-04  0.010204\n",
      "4  2022-01-05  0.010204\n",
      "FB Prophet RMSE for Paris[so2]: 0.03243103395789798\n",
      "\n",
      "FB Prophet MSE for Paris[so2]: 0.001051771963578332\n",
      "\n",
      "FB Prophet MAE for Paris[so2]: 0.018605271029542982\n",
      "\n"
     ]
    },
    {
     "name": "stderr",
     "output_type": "stream",
     "text": [
      "INFO:fbprophet:Disabling daily seasonality. Run prophet with daily_seasonality=True to override this.\n"
     ]
    },
    {
     "name": "stdout",
     "output_type": "stream",
     "text": [
      "          ds      yhat  yhat_lower  yhat_upper\n",
      "0 2022-01-01  0.170850    0.021929    0.321832\n",
      "1 2022-01-02  0.136596   -0.015743    0.280581\n",
      "2 2022-01-03  0.185804    0.035502    0.323902\n",
      "3 2022-01-04  0.216058    0.059081    0.369529\n",
      "4 2022-01-05  0.234124    0.071494    0.398938\n",
      "           ds         y\n",
      "0  2022-01-01  0.205882\n",
      "1  2022-01-02  0.132353\n",
      "2  2022-01-03  0.176471\n",
      "3  2022-01-04  0.014706\n",
      "4  2022-01-05  0.132353\n",
      "FB Prophet RMSE for Paris[pm10]: 0.16307555360221768\n",
      "\n",
      "FB Prophet MSE for Paris[pm10]: 0.026593636182669772\n",
      "\n",
      "FB Prophet MAE for Paris[pm10]: 0.1188243512464408\n",
      "\n",
      "          ds      yhat  yhat_lower  yhat_upper\n",
      "0 2022-01-01  0.310182    0.160586    0.456511\n",
      "1 2022-01-02  0.286593    0.137914    0.430675\n",
      "2 2022-01-03  0.300643    0.148640    0.452415\n",
      "3 2022-01-04  0.326073    0.181378    0.466971\n",
      "4 2022-01-05  0.343635    0.197509    0.486342\n",
      "           ds         y\n",
      "0  2022-01-01  0.300654\n",
      "1  2022-01-02  0.189542\n",
      "2  2022-01-03  0.169935\n",
      "3  2022-01-04  0.039216\n",
      "4  2022-01-05  0.137255\n",
      "FB Prophet RMSE for Paris[pm25]: 0.16813570947954168\n",
      "\n",
      "FB Prophet MSE for Paris[pm25]: 0.028269616802188837\n",
      "\n",
      "FB Prophet MAE for Paris[pm25]: 0.1289617560051285\n",
      "\n"
     ]
    }
   ],
   "source": [
    "pollutants = ['o3', 'no2', 'so2', 'pm10', 'pm25']\n",
    "\n",
    "i=0\n",
    "\n",
    "#EVALUATE MODEL FOR EVERY POLLUTANT\n",
    "for data in datasets:\n",
    "    test, forecast, error = fbprophet_predict_seasonal(data, pollutants[i])\n",
    "    \n",
    "    i = i+1"
   ]
  },
  {
   "cell_type": "markdown",
   "metadata": {},
   "source": [
    "## Weekly predictions"
   ]
  },
  {
   "cell_type": "code",
   "execution_count": 3,
   "metadata": {},
   "outputs": [],
   "source": [
    "Paris_Data_uni.index = Paris_Data_uni['ds']\n",
    "Paris_Data_uni = Paris_Data_uni.drop(['ds'],axis=1)\n",
    "\n",
    "Paris_Data_uni.index = pd.to_datetime(Paris_Data_uni.index)\n",
    "Paris_weekly = Paris_Data_uni.resample(\"1w\").mean().bfill()\n",
    "\n",
    "Paris_weekly['ds'] = Paris_weekly.index"
   ]
  },
  {
   "cell_type": "code",
   "execution_count": 4,
   "metadata": {},
   "outputs": [],
   "source": [
    "Paris_o3 = Paris_weekly[['ds', 'o3']]\n",
    "Paris_o3.rename(columns = {'o3':'y'}, inplace = True)\n",
    "\n",
    "Paris_no2 = Paris_weekly[['ds', 'no2']]\n",
    "Paris_no2.rename(columns = {'no2':'y'}, inplace = True)\n",
    "\n",
    "Paris_so2 = Paris_weekly[['ds', 'so2']]\n",
    "Paris_so2.rename(columns = {'so2':'y'}, inplace = True)\n",
    "\n",
    "Paris_pm10 = Paris_weekly[['ds', 'pm10']]\n",
    "Paris_pm10.rename(columns = {'pm10':'y'}, inplace = True)\n",
    "\n",
    "Paris_pm25 = Paris_weekly[['ds', 'pm25']]\n",
    "Paris_pm25.rename(columns = {'pm25':'y'}, inplace = True)\n",
    "\n",
    "datasets = [Paris_o3, Paris_no2, Paris_so2, Paris_pm10, Paris_pm25]"
   ]
  },
  {
   "cell_type": "code",
   "execution_count": 10,
   "metadata": {
    "scrolled": false
   },
   "outputs": [
    {
     "name": "stderr",
     "output_type": "stream",
     "text": [
      "INFO:fbprophet:Disabling weekly seasonality. Run prophet with weekly_seasonality=True to override this.\n",
      "INFO:fbprophet:Disabling daily seasonality. Run prophet with daily_seasonality=True to override this.\n",
      "INFO:fbprophet:Disabling weekly seasonality. Run prophet with weekly_seasonality=True to override this.\n",
      "INFO:fbprophet:Disabling daily seasonality. Run prophet with daily_seasonality=True to override this.\n"
     ]
    },
    {
     "name": "stdout",
     "output_type": "stream",
     "text": [
      "          ds      yhat  yhat_lower  yhat_upper\n",
      "0 2020-10-11  0.372101    0.258302    0.495956\n",
      "1 2020-10-18  0.367534    0.262444    0.476860\n",
      "2 2020-10-25  0.354349    0.236140    0.463289\n",
      "3 2020-11-01  0.341751    0.231486    0.451066\n",
      "4 2020-11-08  0.339119    0.225082    0.447845\n",
      "          ds         y\n",
      "0 2020-10-11  0.384593\n",
      "1 2020-10-18  0.183884\n",
      "2 2020-10-25  0.323790\n",
      "3 2020-11-01  0.356848\n",
      "4 2020-11-08  0.216942\n",
      "FB Prophet RMSE for Paris[o3]: 0.14517097104395482\n",
      "\n",
      "FB Prophet MSE for Paris[o3]: 0.021074610833844768\n",
      "\n",
      "FB Prophet MAE for Paris[o3]: 0.11361127692334627\n",
      "\n"
     ]
    },
    {
     "name": "stderr",
     "output_type": "stream",
     "text": [
      "INFO:fbprophet:Disabling weekly seasonality. Run prophet with weekly_seasonality=True to override this.\n",
      "INFO:fbprophet:Disabling daily seasonality. Run prophet with daily_seasonality=True to override this.\n"
     ]
    },
    {
     "name": "stdout",
     "output_type": "stream",
     "text": [
      "          ds      yhat  yhat_lower  yhat_upper\n",
      "0 2020-10-11  0.227992    0.115376    0.341283\n",
      "1 2020-10-18  0.232832    0.122118    0.348502\n",
      "2 2020-10-25  0.238828    0.122018    0.350044\n",
      "3 2020-11-01  0.242487    0.129142    0.352928\n",
      "4 2020-11-08  0.244883    0.136910    0.353873\n",
      "          ds         y\n",
      "0 2020-10-11  0.131240\n",
      "1 2020-10-18  0.262794\n",
      "2 2020-10-25  0.233281\n",
      "3 2020-11-01  0.144741\n",
      "4 2020-11-08  0.264364\n",
      "FB Prophet RMSE for Paris[no2]: 0.08718390818992292\n",
      "\n",
      "FB Prophet MSE for Paris[no2]: 0.007601033847268907\n",
      "\n",
      "FB Prophet MAE for Paris[no2]: 0.06581686386978292\n",
      "\n"
     ]
    },
    {
     "name": "stderr",
     "output_type": "stream",
     "text": [
      "INFO:fbprophet:Disabling weekly seasonality. Run prophet with weekly_seasonality=True to override this.\n",
      "INFO:fbprophet:Disabling daily seasonality. Run prophet with daily_seasonality=True to override this.\n"
     ]
    },
    {
     "name": "stdout",
     "output_type": "stream",
     "text": [
      "          ds      yhat  yhat_lower  yhat_upper\n",
      "0 2020-10-11  0.064459    0.034155    0.097561\n",
      "1 2020-10-18  0.058194    0.028657    0.087666\n",
      "2 2020-10-25  0.052767    0.024106    0.083089\n",
      "3 2020-11-01  0.052007    0.021011    0.084359\n",
      "4 2020-11-08  0.055498    0.023792    0.086341\n",
      "          ds         y\n",
      "0 2020-10-11  0.052478\n",
      "1 2020-10-18  0.104956\n",
      "2 2020-10-25  0.052478\n",
      "3 2020-11-01  0.034985\n",
      "4 2020-11-08  0.062682\n",
      "FB Prophet RMSE for Paris[so2]: 0.02338651063098514\n",
      "\n",
      "FB Prophet MSE for Paris[so2]: 0.0005469288794931809\n",
      "\n",
      "FB Prophet MAE for Paris[so2]: 0.019143010743818984\n",
      "\n"
     ]
    },
    {
     "name": "stderr",
     "output_type": "stream",
     "text": [
      "INFO:fbprophet:Disabling weekly seasonality. Run prophet with weekly_seasonality=True to override this.\n",
      "INFO:fbprophet:Disabling daily seasonality. Run prophet with daily_seasonality=True to override this.\n"
     ]
    },
    {
     "name": "stdout",
     "output_type": "stream",
     "text": [
      "          ds      yhat  yhat_lower  yhat_upper\n",
      "0 2020-10-11  0.164561    0.049473    0.287243\n",
      "1 2020-10-18  0.174715    0.050613    0.300744\n",
      "2 2020-10-25  0.189237    0.067427    0.314751\n",
      "3 2020-11-01  0.190509    0.072313    0.323048\n",
      "4 2020-11-08  0.178568    0.049809    0.297819\n",
      "          ds         y\n",
      "0 2020-10-11  0.098739\n",
      "1 2020-10-18  0.197479\n",
      "2 2020-10-25  0.174370\n",
      "3 2020-11-01  0.113445\n",
      "4 2020-11-08  0.222689\n",
      "FB Prophet RMSE for Paris[pm10]: 0.09120885869905562\n",
      "\n",
      "FB Prophet MSE for Paris[pm10]: 0.008319055905184294\n",
      "\n",
      "FB Prophet MAE for Paris[pm10]: 0.06956344989020022\n",
      "\n",
      "          ds      yhat  yhat_lower  yhat_upper\n",
      "0 2020-10-11  0.187308    0.062804    0.312847\n",
      "1 2020-10-18  0.196703    0.070429    0.324322\n",
      "2 2020-10-25  0.211068    0.079310    0.337462\n",
      "3 2020-11-01  0.216760    0.082887    0.347274\n",
      "4 2020-11-08  0.211830    0.081570    0.342599\n",
      "          ds         y\n",
      "0 2020-10-11  0.094304\n",
      "1 2020-10-18  0.243697\n",
      "2 2020-10-25  0.169935\n",
      "3 2020-11-01  0.112979\n",
      "4 2020-11-08  0.237162\n",
      "FB Prophet RMSE for Paris[pm25]: 0.0979062668912395\n",
      "\n",
      "FB Prophet MSE for Paris[pm25]: 0.009585637096578621\n",
      "\n",
      "FB Prophet MAE for Paris[pm25]: 0.07414597900885962\n",
      "\n"
     ]
    }
   ],
   "source": [
    "pollutants = ['o3', 'no2', 'so2', 'pm10', 'pm25']\n",
    "\n",
    "i=0\n",
    "\n",
    "#EVALUATE MODEL FOR EVERY POLLUTANT\n",
    "for data in datasets:\n",
    "    test, forecast, error = fbprophet_predict(data, pollutants[i])\n",
    "    \n",
    "    i = i+1"
   ]
  },
  {
   "cell_type": "markdown",
   "metadata": {},
   "source": [
    "## Monthly predictions"
   ]
  },
  {
   "cell_type": "code",
   "execution_count": 12,
   "metadata": {},
   "outputs": [],
   "source": [
    "Paris_Data_uni.index = Paris_Data_uni['ds']\n",
    "Paris_Data_uni = Paris_Data_uni.drop(['ds'],axis=1)\n",
    "\n",
    "Paris_Data_uni.index = pd.to_datetime(Paris_Data_uni.index)\n",
    "Paris_monthly = Paris_Data_uni.resample(\"1m\").mean().bfill()\n",
    "\n",
    "Paris_monthly['ds'] = Paris_monthly.index"
   ]
  },
  {
   "cell_type": "code",
   "execution_count": 13,
   "metadata": {},
   "outputs": [],
   "source": [
    "Paris_o3 = Paris_monthly[['ds', 'o3']]\n",
    "Paris_o3.rename(columns = {'o3':'y'}, inplace = True)\n",
    "\n",
    "Paris_no2 = Paris_monthly[['ds', 'no2']]\n",
    "Paris_no2.rename(columns = {'no2':'y'}, inplace = True)\n",
    "\n",
    "Paris_so2 = Paris_monthly[['ds', 'so2']]\n",
    "Paris_so2.rename(columns = {'so2':'y'}, inplace = True)\n",
    "\n",
    "Paris_pm10 = Paris_monthly[['ds', 'pm10']]\n",
    "Paris_pm10.rename(columns = {'pm10':'y'}, inplace = True)\n",
    "\n",
    "Paris_pm25 = Paris_monthly[['ds', 'pm25']]\n",
    "Paris_pm25.rename(columns = {'pm25':'y'}, inplace = True)\n",
    "\n",
    "datasets = [Paris_o3, Paris_no2, Paris_so2, Paris_pm10, Paris_pm25]"
   ]
  },
  {
   "cell_type": "code",
   "execution_count": 14,
   "metadata": {
    "scrolled": false
   },
   "outputs": [
    {
     "name": "stderr",
     "output_type": "stream",
     "text": [
      "INFO:fbprophet:Disabling weekly seasonality. Run prophet with weekly_seasonality=True to override this.\n",
      "INFO:fbprophet:Disabling daily seasonality. Run prophet with daily_seasonality=True to override this.\n",
      "INFO:fbprophet:Disabling weekly seasonality. Run prophet with weekly_seasonality=True to override this.\n",
      "INFO:fbprophet:Disabling daily seasonality. Run prophet with daily_seasonality=True to override this.\n"
     ]
    },
    {
     "name": "stdout",
     "output_type": "stream",
     "text": [
      "          ds      yhat  yhat_lower  yhat_upper\n",
      "0 2020-10-31  0.290226    0.195257    0.385050\n",
      "1 2020-11-30  0.274461    0.172869    0.370056\n",
      "2 2020-12-31  0.253534    0.161003    0.349339\n",
      "3 2021-01-31  0.258354    0.164440    0.358109\n",
      "4 2021-02-28  0.394618    0.294359    0.497802\n",
      "          ds         y\n",
      "0 2020-10-31  0.311917\n",
      "1 2020-11-30  0.194284\n",
      "2 2020-12-31  0.242069\n",
      "3 2021-01-31  0.229539\n",
      "4 2021-02-28  0.312721\n",
      "FB Prophet RMSE for Paris[o3]: 0.09082287819249651\n",
      "\n",
      "FB Prophet MSE for Paris[o3]: 0.008248795203169058\n",
      "\n",
      "FB Prophet MAE for Paris[o3]: 0.07670269081045662\n",
      "\n"
     ]
    },
    {
     "name": "stderr",
     "output_type": "stream",
     "text": [
      "INFO:fbprophet:Disabling weekly seasonality. Run prophet with weekly_seasonality=True to override this.\n",
      "INFO:fbprophet:Disabling daily seasonality. Run prophet with daily_seasonality=True to override this.\n"
     ]
    },
    {
     "name": "stdout",
     "output_type": "stream",
     "text": [
      "          ds      yhat  yhat_lower  yhat_upper\n",
      "0 2020-10-31  0.284694    0.210461    0.368099\n",
      "1 2020-11-30  0.285239    0.205170    0.371040\n",
      "2 2020-12-31  0.320535    0.243109    0.402271\n",
      "3 2021-01-31  0.321697    0.241517    0.406784\n",
      "4 2021-02-28  0.254568    0.176030    0.333577\n",
      "          ds         y\n",
      "0 2020-10-31  0.200638\n",
      "1 2020-11-30  0.293626\n",
      "2 2020-12-31  0.247714\n",
      "3 2021-01-31  0.273591\n",
      "4 2021-02-28  0.284694\n",
      "FB Prophet RMSE for Paris[no2]: 0.07301075807144099\n",
      "\n",
      "FB Prophet MSE for Paris[no2]: 0.005330570794166486\n",
      "\n",
      "FB Prophet MAE for Paris[no2]: 0.059879918846896016\n",
      "\n"
     ]
    },
    {
     "name": "stderr",
     "output_type": "stream",
     "text": [
      "INFO:fbprophet:Disabling weekly seasonality. Run prophet with weekly_seasonality=True to override this.\n",
      "INFO:fbprophet:Disabling daily seasonality. Run prophet with daily_seasonality=True to override this.\n"
     ]
    },
    {
     "name": "stdout",
     "output_type": "stream",
     "text": [
      "          ds      yhat  yhat_lower  yhat_upper\n",
      "0 2020-10-31  0.043747    0.017573    0.067179\n",
      "1 2020-11-30  0.049214    0.025891    0.074254\n",
      "2 2020-12-31  0.068153    0.043817    0.093162\n",
      "3 2021-01-31  0.082523    0.056570    0.107095\n",
      "4 2021-02-28  0.053604    0.029018    0.077906\n",
      "          ds         y\n",
      "0 2020-10-31  0.092495\n",
      "1 2020-11-30  0.055102\n",
      "2 2020-12-31  0.055958\n",
      "3 2021-01-31  0.068466\n",
      "4 2021-02-28  0.058309\n",
      "FB Prophet RMSE for Paris[so2]: 0.019833598221029994\n",
      "\n",
      "FB Prophet MSE for Paris[so2]: 0.0003933716183932441\n",
      "\n",
      "FB Prophet MAE for Paris[so2]: 0.016070922969550216\n",
      "\n"
     ]
    },
    {
     "name": "stderr",
     "output_type": "stream",
     "text": [
      "INFO:fbprophet:Disabling weekly seasonality. Run prophet with weekly_seasonality=True to override this.\n",
      "INFO:fbprophet:Disabling daily seasonality. Run prophet with daily_seasonality=True to override this.\n"
     ]
    },
    {
     "name": "stdout",
     "output_type": "stream",
     "text": [
      "          ds      yhat  yhat_lower  yhat_upper\n",
      "0 2020-10-31  0.141963    0.054080    0.237173\n",
      "1 2020-11-30  0.154704    0.062510    0.245451\n",
      "2 2020-12-31  0.198735    0.105131    0.288477\n",
      "3 2021-01-31  0.224300    0.136270    0.320581\n",
      "4 2021-02-28  0.189578    0.098293    0.283347\n",
      "          ds         y\n",
      "0 2020-10-31  0.143738\n",
      "1 2020-11-30  0.266667\n",
      "2 2020-12-31  0.139469\n",
      "3 2021-01-31  0.206357\n",
      "4 2021-02-28  0.266807\n",
      "FB Prophet RMSE for Paris[pm10]: 0.07113926346765148\n",
      "\n",
      "FB Prophet MSE for Paris[pm10]: 0.0050607948067199334\n",
      "\n",
      "FB Prophet MAE for Paris[pm10]: 0.059217492950274994\n",
      "\n",
      "          ds      yhat  yhat_lower  yhat_upper\n",
      "0 2020-10-31  0.193550    0.113100    0.273782\n",
      "1 2020-11-30  0.197012    0.110481    0.274295\n",
      "2 2020-12-31  0.230831    0.150765    0.309696\n",
      "3 2021-01-31  0.278330    0.193387    0.368252\n",
      "4 2021-02-28  0.207962    0.127624    0.290174\n",
      "          ds         y\n",
      "0 2020-10-31  0.153279\n",
      "1 2020-11-30  0.281481\n",
      "2 2020-12-31  0.180266\n",
      "3 2021-01-31  0.296226\n",
      "4 2021-02-28  0.279645\n",
      "FB Prophet RMSE for Paris[pm25]: 0.07390092662807445\n",
      "\n",
      "FB Prophet MSE for Paris[pm25]: 0.005461346956488042\n",
      "\n",
      "FB Prophet MAE for Paris[pm25]: 0.0646059368992258\n",
      "\n"
     ]
    }
   ],
   "source": [
    "pollutants = ['o3', 'no2', 'so2', 'pm10', 'pm25']\n",
    "\n",
    "i=0\n",
    "\n",
    "#EVALUATE MODEL FOR EVERY POLLUTANT\n",
    "for data in datasets:\n",
    "    test, forecast, error = fbprophet_predict(data, pollutants[i])\n",
    "    \n",
    "    i = i+1"
   ]
  }
 ],
 "metadata": {
  "kernelspec": {
   "display_name": "Python 3 (ipykernel)",
   "language": "python",
   "name": "python3"
  },
  "language_info": {
   "codemirror_mode": {
    "name": "ipython",
    "version": 3
   },
   "file_extension": ".py",
   "mimetype": "text/x-python",
   "name": "python",
   "nbconvert_exporter": "python",
   "pygments_lexer": "ipython3",
   "version": "3.8.5"
  },
  "latex_envs": {
   "LaTeX_envs_menu_present": true,
   "autoclose": false,
   "autocomplete": true,
   "bibliofile": "biblio.bib",
   "cite_by": "apalike",
   "current_citInitial": 1,
   "eqLabelWithNumbers": true,
   "eqNumInitial": 1,
   "hotkeys": {
    "equation": "Ctrl-E",
    "itemize": "Ctrl-I"
   },
   "labels_anchors": false,
   "latex_user_defs": false,
   "report_style_numbering": false,
   "user_envs_cfg": false
  }
 },
 "nbformat": 4,
 "nbformat_minor": 4
}
