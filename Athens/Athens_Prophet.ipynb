{
 "cells": [
  {
   "cell_type": "code",
   "execution_count": 1,
   "metadata": {},
   "outputs": [],
   "source": [
    "#import libraries\n",
    "import pandas as pd\n",
    "import numpy as np\n",
    "import matplotlib.pyplot as plt\n",
    "import seaborn as sns\n",
    "import numpy as np, pandas as pd\n",
    "from fbprophet import Prophet\n",
    "import math\n",
    "from sklearn.metrics import mean_squared_error, mean_absolute_error\n",
    "from matplotlib import pyplot\n",
    "from pmdarima.arima.utils import ndiffs\n",
    "from statsmodels.tsa.stattools import adfuller\n",
    "\n",
    "import warnings\n",
    "warnings.filterwarnings(\"ignore\")"
   ]
  },
  {
   "cell_type": "code",
   "execution_count": 17,
   "metadata": {},
   "outputs": [],
   "source": [
    "#DATA PREPARATION FOR UNIVARIATE PROPHET MODEL\n",
    "\n",
    "#GATHER ATHENS DATA FROM ALL AVAILABLE YEARS\n",
    "Athens_Data = pd.read_csv('Athens_data.csv')\n",
    "\n",
    "Athens_Data.rename(columns = {Athens_Data.columns[0]:'ds'}, inplace = True)\n",
    "#KEEP ONLY THE POLLUTANTS COLUMNS\n",
    "cols=['pm25', 'pm10', 'no2', 'o3', 'so2', 'ds']\n",
    "\n",
    "#MAKE VALUES NUMERIC\n",
    "Athens_Data_uni = Athens_Data.loc[:, Athens_Data.columns.intersection(cols)]\n",
    "Athens_Data_uni[['pm25', 'pm10', 'no2', 'o3', 'so2']] = Athens_Data_uni[['pm25', 'pm10', 'no2', 'o3', 'so2']].apply(pd.to_numeric, errors='coerce')\n",
    "\n",
    "#FILL NAN VALUES\n",
    "Athens_Data_uni = Athens_Data_uni.iloc[1: , :]\n",
    "\n",
    "#SOME VALUES ARE EMPTY, BUT NOT RECOGNIZED AS NAN. REPLACE EMPTY VALUES WITH NAN TO FILL THEM LATER\n",
    "Athens_Data_uni = Athens_Data_uni.replace(r'^\\s*$', np.nan, regex=True)\n",
    "Athens_Data_uni = Athens_Data_uni.fillna(method='ffill')\n",
    "Athens_Data_uni = Athens_Data_uni.fillna(method='bfill')\n",
    "\n",
    "#REMOVE DUPLICATE VALUES\n",
    "Athens_Data_uni = Athens_Data_uni[~Athens_Data_uni.index.duplicated(keep='first')]\n",
    "\n",
    "#Fb prophet model predicts univariate time series. It requires that the Date index column is named 'ds'\n",
    "#and the values column is named 'y'\n",
    "Athens_Data_uni['ds'] = pd.DatetimeIndex(Athens_Data_uni['ds'])"
   ]
  },
  {
   "cell_type": "code",
   "execution_count": 3,
   "metadata": {},
   "outputs": [
    {
     "data": {
      "text/html": [
       "<div>\n",
       "<style scoped>\n",
       "    .dataframe tbody tr th:only-of-type {\n",
       "        vertical-align: middle;\n",
       "    }\n",
       "\n",
       "    .dataframe tbody tr th {\n",
       "        vertical-align: top;\n",
       "    }\n",
       "\n",
       "    .dataframe thead th {\n",
       "        text-align: right;\n",
       "    }\n",
       "</style>\n",
       "<table border=\"1\" class=\"dataframe\">\n",
       "  <thead>\n",
       "    <tr style=\"text-align: right;\">\n",
       "      <th></th>\n",
       "      <th>ds</th>\n",
       "      <th>no2</th>\n",
       "      <th>o3</th>\n",
       "      <th>pm10</th>\n",
       "      <th>pm25</th>\n",
       "      <th>so2</th>\n",
       "    </tr>\n",
       "  </thead>\n",
       "  <tbody>\n",
       "    <tr>\n",
       "      <th>1</th>\n",
       "      <td>2019-11-08</td>\n",
       "      <td>0.423792</td>\n",
       "      <td>0.470135</td>\n",
       "      <td>0.442623</td>\n",
       "      <td>0.352381</td>\n",
       "      <td>0.039683</td>\n",
       "    </tr>\n",
       "    <tr>\n",
       "      <th>2</th>\n",
       "      <td>2019-11-09</td>\n",
       "      <td>0.442379</td>\n",
       "      <td>0.454721</td>\n",
       "      <td>0.213115</td>\n",
       "      <td>0.228571</td>\n",
       "      <td>0.039683</td>\n",
       "    </tr>\n",
       "    <tr>\n",
       "      <th>3</th>\n",
       "      <td>2019-11-10</td>\n",
       "      <td>0.237918</td>\n",
       "      <td>0.516378</td>\n",
       "      <td>0.131148</td>\n",
       "      <td>0.152381</td>\n",
       "      <td>0.039683</td>\n",
       "    </tr>\n",
       "    <tr>\n",
       "      <th>4</th>\n",
       "      <td>2019-11-11</td>\n",
       "      <td>0.356877</td>\n",
       "      <td>0.375723</td>\n",
       "      <td>0.229508</td>\n",
       "      <td>0.180952</td>\n",
       "      <td>0.039683</td>\n",
       "    </tr>\n",
       "    <tr>\n",
       "      <th>5</th>\n",
       "      <td>2019-11-12</td>\n",
       "      <td>0.490706</td>\n",
       "      <td>0.470135</td>\n",
       "      <td>0.459016</td>\n",
       "      <td>0.485714</td>\n",
       "      <td>0.039683</td>\n",
       "    </tr>\n",
       "    <tr>\n",
       "      <th>...</th>\n",
       "      <td>...</td>\n",
       "      <td>...</td>\n",
       "      <td>...</td>\n",
       "      <td>...</td>\n",
       "      <td>...</td>\n",
       "      <td>...</td>\n",
       "    </tr>\n",
       "    <tr>\n",
       "      <th>834</th>\n",
       "      <td>2022-03-15</td>\n",
       "      <td>0.371747</td>\n",
       "      <td>0.539499</td>\n",
       "      <td>0.327869</td>\n",
       "      <td>0.419048</td>\n",
       "      <td>0.277778</td>\n",
       "    </tr>\n",
       "    <tr>\n",
       "      <th>835</th>\n",
       "      <td>2022-03-16</td>\n",
       "      <td>0.442379</td>\n",
       "      <td>0.547206</td>\n",
       "      <td>0.426230</td>\n",
       "      <td>0.542857</td>\n",
       "      <td>0.317460</td>\n",
       "    </tr>\n",
       "    <tr>\n",
       "      <th>836</th>\n",
       "      <td>2022-03-17</td>\n",
       "      <td>0.338290</td>\n",
       "      <td>0.587669</td>\n",
       "      <td>0.459016</td>\n",
       "      <td>0.504762</td>\n",
       "      <td>0.198413</td>\n",
       "    </tr>\n",
       "    <tr>\n",
       "      <th>837</th>\n",
       "      <td>2022-03-18</td>\n",
       "      <td>0.204461</td>\n",
       "      <td>0.633911</td>\n",
       "      <td>0.295082</td>\n",
       "      <td>0.342857</td>\n",
       "      <td>0.079365</td>\n",
       "    </tr>\n",
       "    <tr>\n",
       "      <th>838</th>\n",
       "      <td>2022-03-19</td>\n",
       "      <td>0.185874</td>\n",
       "      <td>0.641618</td>\n",
       "      <td>0.229508</td>\n",
       "      <td>0.276190</td>\n",
       "      <td>0.000000</td>\n",
       "    </tr>\n",
       "  </tbody>\n",
       "</table>\n",
       "<p>838 rows × 6 columns</p>\n",
       "</div>"
      ],
      "text/plain": [
       "            ds       no2        o3      pm10      pm25       so2\n",
       "1   2019-11-08  0.423792  0.470135  0.442623  0.352381  0.039683\n",
       "2   2019-11-09  0.442379  0.454721  0.213115  0.228571  0.039683\n",
       "3   2019-11-10  0.237918  0.516378  0.131148  0.152381  0.039683\n",
       "4   2019-11-11  0.356877  0.375723  0.229508  0.180952  0.039683\n",
       "5   2019-11-12  0.490706  0.470135  0.459016  0.485714  0.039683\n",
       "..         ...       ...       ...       ...       ...       ...\n",
       "834 2022-03-15  0.371747  0.539499  0.327869  0.419048  0.277778\n",
       "835 2022-03-16  0.442379  0.547206  0.426230  0.542857  0.317460\n",
       "836 2022-03-17  0.338290  0.587669  0.459016  0.504762  0.198413\n",
       "837 2022-03-18  0.204461  0.633911  0.295082  0.342857  0.079365\n",
       "838 2022-03-19  0.185874  0.641618  0.229508  0.276190  0.000000\n",
       "\n",
       "[838 rows x 6 columns]"
      ]
     },
     "execution_count": 3,
     "metadata": {},
     "output_type": "execute_result"
    }
   ],
   "source": [
    "Athens_Data_uni"
   ]
  },
  {
   "cell_type": "code",
   "execution_count": 12,
   "metadata": {},
   "outputs": [
    {
     "name": "stdout",
     "output_type": "stream",
     "text": [
      "Check if Athens_Data is stationary :\n",
      "p-value for no2 : 0.000000\n",
      "p-value for o3 : 0.185124\n",
      "p-value for so2 : 0.000001\n",
      "p-value for pm10 : 0.000000\n",
      "p-value for pm25 : 0.000000\n"
     ]
    }
   ],
   "source": [
    "#Check data for stationarity to apply the ARIMA model.\n",
    "\n",
    "#The null hypothesis is that the time series is non-stationary.\n",
    "#Using the Augmented Dickey Fuller test (adfuller()) we can check for stationarity.\n",
    "#If p-value < significance level(0.05), the we reject the null hypothesis.\n",
    "#Otherwise, the time series is non-stationary and needs differencing.\n",
    "\n",
    "print(\"Check if Athens_Data is stationary :\")\n",
    "for col in ['no2', 'o3', 'so2', 'pm10', 'pm25']:\n",
    "    result = adfuller(Athens_Data[col])\n",
    "    print('p-value for ' + col + ' : %f' % result[1])"
   ]
  },
  {
   "cell_type": "code",
   "execution_count": 13,
   "metadata": {},
   "outputs": [],
   "source": [
    "Athens_Data_uni['o3'] = Athens_Data_uni['o3'].diff()"
   ]
  },
  {
   "cell_type": "code",
   "execution_count": 11,
   "metadata": {},
   "outputs": [],
   "source": [
    "def fbprophet_predict(time_series, col):\n",
    "    \n",
    "    #CREATE MODEL\n",
    "    model = Prophet()\n",
    "    \n",
    "    #SPLIT TO TRAIN AND TEST PORTIONS\n",
    "    train_size = 0.8\n",
    "    train = time_series[:int(train_size*(len(time_series)))]\n",
    "    test = time_series[int(train_size*(len(time_series))):]\n",
    "    \n",
    "    #FIT TRAIN DATA TO MODEL\n",
    "    model.fit(train)\n",
    "    \n",
    "    #PREDICT THE TEST PORTION. THE PARAMETER IN THE PREDICT FUNCTION IS THE TIME INTERVAL TO PREDICT\n",
    "    forecast = model.predict(test[['ds']])\n",
    "    \n",
    "    #FORECAST PREVIEW. 'ds' IS THE DAILY INDEX, 'yhat' IS THE FORECAST, 'yhat_lower' and 'yhat_upper' ARE THE\n",
    "    #LOWER AND UPPER BOUND OF THE FORECASTED VALUE RESPECTIVELY.\n",
    "    print(forecast[['ds', 'yhat', 'yhat_lower', 'yhat_upper']].head())\n",
    "    print(test.reset_index(drop=True).head())\n",
    "    \n",
    "    #COMPUTE RMSE OF THE FORECASTED AND ACTUAL VALUE\n",
    "    rmse = math.sqrt(mean_squared_error(test[['y']], forecast[['yhat']]))\n",
    "    mse = mean_squared_error(test[['y']], forecast[['yhat']])\n",
    "    mae = mean_absolute_error(test[['y']], forecast[['yhat']])\n",
    "    \n",
    "    print(\"FB Prophet RMSE for Athens[\" + col + \"]: \" + str(rmse) + \"\\n\")\n",
    "    print(\"FB Prophet MSE for Athens[\" + col + \"]: \" + str(mse) + \"\\n\")\n",
    "    print(\"FB Prophet MAE for Athens[\" + col + \"]: \" + str(mae) + \"\\n\")\n",
    "\n",
    "    return test, forecast, rmse"
   ]
  },
  {
   "cell_type": "code",
   "execution_count": 7,
   "metadata": {},
   "outputs": [],
   "source": [
    "#FB PROPHET REQUIRES THE DATAFRAME TO HAVE TWO COLUMNS. 'ds' AND 'y', 'ds' IS THE TIME INDEX AND 'y' IS THE\n",
    "#VALUE OF THE POLLUTANT\n",
    "\n",
    "#RENAME COLUMNS TO FIT TO THE PROPHET MODEL\n",
    "Athens_o3 = Athens_Data_uni[['ds', 'o3']]\n",
    "Athens_o3.rename(columns = {'o3':'y'}, inplace = True)\n",
    "\n",
    "Athens_no2 = Athens_Data_uni[['ds', 'no2']]\n",
    "Athens_no2.rename(columns = {'no2':'y'}, inplace = True)\n",
    "\n",
    "Athens_so2 = Athens_Data_uni[['ds', 'so2']]\n",
    "Athens_so2.rename(columns = {'so2':'y'}, inplace = True)\n",
    "\n",
    "Athens_pm10 = Athens_Data_uni[['ds', 'pm10']]\n",
    "Athens_pm10.rename(columns = {'pm10':'y'}, inplace = True)\n",
    "\n",
    "Athens_pm25 = Athens_Data_uni[['ds', 'pm25']]\n",
    "Athens_pm25.rename(columns = {'pm25':'y'}, inplace = True)\n",
    "\n",
    "datasets = [Athens_o3, Athens_no2, Athens_so2, Athens_pm10, Athens_pm25]"
   ]
  },
  {
   "cell_type": "code",
   "execution_count": 12,
   "metadata": {
    "scrolled": false
   },
   "outputs": [
    {
     "name": "stderr",
     "output_type": "stream",
     "text": [
      "INFO:fbprophet:Disabling yearly seasonality. Run prophet with yearly_seasonality=True to override this.\n",
      "INFO:fbprophet:Disabling daily seasonality. Run prophet with daily_seasonality=True to override this.\n",
      "INFO:fbprophet:Disabling yearly seasonality. Run prophet with yearly_seasonality=True to override this.\n",
      "INFO:fbprophet:Disabling daily seasonality. Run prophet with daily_seasonality=True to override this.\n"
     ]
    },
    {
     "name": "stdout",
     "output_type": "stream",
     "text": [
      "          ds      yhat  yhat_lower  yhat_upper\n",
      "0 2021-09-08  0.006752   -0.118591    0.135799\n",
      "1 2021-09-09  0.006488   -0.122421    0.135483\n",
      "2 2021-09-10 -0.012038   -0.148551    0.118825\n",
      "3 2021-09-11  0.011291   -0.120855    0.147883\n",
      "4 2021-09-12  0.020931   -0.108392    0.150635\n",
      "          ds         y\n",
      "0 2021-09-08 -0.055877\n",
      "1 2021-09-09 -0.053950\n",
      "2 2021-09-10  0.023121\n",
      "3 2021-09-11  0.078998\n",
      "4 2021-09-12  0.211946\n",
      "FB Prophet RMSE for Athens[o3]: 0.10655574865383032\n",
      "\n",
      "FB Prophet MSE for Athens[o3]: 0.011354127571178261\n",
      "\n",
      "FB Prophet MAE for Athens[o3]: 0.07654105528978698\n",
      "\n",
      "Monthly prediction error for o3:\n",
      "\n",
      "MAE: 0.006416837806842581\n",
      "MSE: 8.386756865368988e-05\n",
      "RMSE: 0.009157923817857946\n"
     ]
    },
    {
     "name": "stderr",
     "output_type": "stream",
     "text": [
      "INFO:fbprophet:Disabling yearly seasonality. Run prophet with yearly_seasonality=True to override this.\n",
      "INFO:fbprophet:Disabling daily seasonality. Run prophet with daily_seasonality=True to override this.\n"
     ]
    },
    {
     "name": "stdout",
     "output_type": "stream",
     "text": [
      "          ds      yhat  yhat_lower  yhat_upper\n",
      "0 2021-09-08  0.272681    0.055843    0.495806\n",
      "1 2021-09-09  0.249364    0.033459    0.464855\n",
      "2 2021-09-10  0.281400    0.057377    0.496656\n",
      "3 2021-09-11  0.244117    0.049978    0.474118\n",
      "4 2021-09-12  0.164482   -0.048877    0.368927\n",
      "          ds         y\n",
      "0 2021-09-08  0.118959\n",
      "1 2021-09-09  0.167286\n",
      "2 2021-09-10  0.286245\n",
      "3 2021-09-11  0.390335\n",
      "4 2021-09-12  0.442379\n",
      "FB Prophet RMSE for Athens[no2]: 0.23506819389679431\n",
      "\n",
      "FB Prophet MSE for Athens[no2]: 0.055257055781900884\n",
      "\n",
      "FB Prophet MAE for Athens[no2]: 0.18983884663712397\n",
      "\n",
      "Monthly prediction error for no2:\n",
      "\n",
      "MAE: 0.1598463016602261\n",
      "MSE: 0.02820978969049564\n",
      "RMSE: 0.16795770208744712\n"
     ]
    },
    {
     "name": "stderr",
     "output_type": "stream",
     "text": [
      "INFO:fbprophet:Disabling yearly seasonality. Run prophet with yearly_seasonality=True to override this.\n",
      "INFO:fbprophet:Disabling daily seasonality. Run prophet with daily_seasonality=True to override this.\n"
     ]
    },
    {
     "name": "stdout",
     "output_type": "stream",
     "text": [
      "          ds      yhat  yhat_lower  yhat_upper\n",
      "0 2021-09-08  0.299989    0.166452    0.430812\n",
      "1 2021-09-09  0.295024    0.154917    0.435725\n",
      "2 2021-09-10  0.302028    0.166546    0.459290\n",
      "3 2021-09-11  0.288599    0.151355    0.423562\n",
      "4 2021-09-12  0.277152    0.132586    0.417691\n",
      "          ds         y\n",
      "0 2021-09-08  0.198413\n",
      "1 2021-09-09  0.238095\n",
      "2 2021-09-10  0.238095\n",
      "3 2021-09-11  0.119048\n",
      "4 2021-09-12  0.198413\n",
      "FB Prophet RMSE for Athens[so2]: 0.20969681691063943\n",
      "\n",
      "FB Prophet MSE for Athens[so2]: 0.043972755022454235\n",
      "\n",
      "FB Prophet MAE for Athens[so2]: 0.1716231431952845\n",
      "\n",
      "Monthly prediction error for so2:\n",
      "\n",
      "MAE: 0.14354143938181796\n",
      "MSE: 0.023169368679963435\n",
      "RMSE: 0.15221487667098585\n"
     ]
    },
    {
     "name": "stderr",
     "output_type": "stream",
     "text": [
      "INFO:fbprophet:Disabling yearly seasonality. Run prophet with yearly_seasonality=True to override this.\n",
      "INFO:fbprophet:Disabling daily seasonality. Run prophet with daily_seasonality=True to override this.\n"
     ]
    },
    {
     "name": "stdout",
     "output_type": "stream",
     "text": [
      "          ds      yhat  yhat_lower  yhat_upper\n",
      "0 2021-09-08  0.398105    0.197299    0.605741\n",
      "1 2021-09-09  0.367147    0.146384    0.550210\n",
      "2 2021-09-10  0.357534    0.151130    0.566178\n",
      "3 2021-09-11  0.386527    0.174592    0.605280\n",
      "4 2021-09-12  0.384672    0.179459    0.595639\n",
      "          ds         y\n",
      "0 2021-09-08  0.344262\n",
      "1 2021-09-09  0.131148\n",
      "2 2021-09-10  0.229508\n",
      "3 2021-09-11  0.295082\n",
      "4 2021-09-12  0.426230\n",
      "FB Prophet RMSE for Athens[pm10]: 0.17229507034669883\n",
      "\n",
      "FB Prophet MSE for Athens[pm10]: 0.0296855912657739\n",
      "\n",
      "FB Prophet MAE for Athens[pm10]: 0.14431306937199231\n",
      "\n",
      "Monthly prediction error for pm10:\n",
      "\n",
      "MAE: 0.10126587758752967\n",
      "MSE: 0.014514658431369388\n",
      "RMSE: 0.12047679623632672\n",
      "          ds      yhat  yhat_lower  yhat_upper\n",
      "0 2021-09-08  0.388271    0.213926    0.552838\n",
      "1 2021-09-09  0.364057    0.202517    0.513031\n",
      "2 2021-09-10  0.357505    0.187997    0.516262\n",
      "3 2021-09-11  0.387461    0.228457    0.550709\n",
      "4 2021-09-12  0.397610    0.232577    0.556970\n",
      "          ds         y\n",
      "0 2021-09-08  0.314286\n",
      "1 2021-09-09  0.123810\n",
      "2 2021-09-10  0.314286\n",
      "3 2021-09-11  0.342857\n",
      "4 2021-09-12  0.380952\n",
      "FB Prophet RMSE for Athens[pm25]: 0.12617296534061825\n",
      "\n",
      "FB Prophet MSE for Athens[pm25]: 0.015919617182844854\n",
      "\n",
      "FB Prophet MAE for Athens[pm25]: 0.09639586372768714\n",
      "\n",
      "Monthly prediction error for pm25:\n",
      "\n",
      "MAE: 0.054250487262424374\n",
      "MSE: 0.004089104783977631\n",
      "RMSE: 0.06394610843497539\n"
     ]
    }
   ],
   "source": [
    "pollutants = ['o3', 'no2', 'so2', 'pm10', 'pm25']\n",
    "\n",
    "i=0\n",
    "\n",
    "#EVALUATE MODEL FOR EVERY POLLUTANT\n",
    "for data in datasets:\n",
    "    test, forecast, error = fbprophet_predict(data, pollutants[i])\n",
    "    \n",
    "    cmp_month_test = pd.Series(test['y'])\n",
    "    cmp_month_test.index = test['ds']\n",
    "    cmp_month_test.index = pd.to_datetime(cmp_month_test.index)\n",
    "    \n",
    "    cmp_month_forecast = pd.Series(forecast['yhat'])\n",
    "    cmp_month_forecast.index = forecast['ds']\n",
    "    cmp_month_forecast.index = pd.to_datetime(cmp_month_forecast.index)\n",
    "    \n",
    "    print(\"Monthly prediction error for \" + str(pollutants[i]) + \":\\n\")\n",
    "    \n",
    "    print(\"MAE: \" + str(mean_absolute_error(cmp_month_test.resample(\"1m\").mean().bfill(), cmp_month_forecast.resample(\"1m\").mean().bfill())))\n",
    "    print(\"MSE: \" + str(mean_squared_error(cmp_month_test.resample(\"1m\").mean().bfill(), cmp_month_forecast.resample(\"1m\").mean().bfill())))\n",
    "    print(\"RMSE: \" + str(math.sqrt(mean_squared_error(cmp_month_test.resample(\"1m\").mean().bfill(), cmp_month_forecast.resample(\"1m\").mean().bfill()))))\n",
    "    \n",
    "    \n",
    "    i = i+1"
   ]
  },
  {
   "cell_type": "markdown",
   "metadata": {},
   "source": [
    "### Seasonal Split"
   ]
  },
  {
   "cell_type": "markdown",
   "metadata": {},
   "source": [
    "The seasonal decomposition of the Athens data we can see that there is a seasonality in the monthly resampled data. Specifically, for each pollutant the seasonal length of the data is:\n",
    "- NO2: 12 months or 365 days\n",
    "- SO2: 12 months\n",
    "- O3: 12 months\n",
    "- PM25: 12 months\n",
    "- PM10: 12 months"
   ]
  },
  {
   "cell_type": "code",
   "execution_count": 32,
   "metadata": {},
   "outputs": [],
   "source": [
    "def fbprophet_predict_seasonal(time_series, col):\n",
    "    \n",
    "    #CREATE MODEL\n",
    "    model = Prophet()\n",
    "    time_series.index = time_series['ds']\n",
    "    #SPLIT TO TRAIN AND TEST PORTIONS\n",
    "    train, test = time_series['2019-12-01' : '2021-12-31'], time_series['2022-01-01' : '2022-03-19']\n",
    "    \n",
    "    #FIT TRAIN DATA TO MODEL\n",
    "    model.fit(train)\n",
    "    \n",
    "    #PREDICT THE TEST PORTION. THE PARAMETER IN THE PREDICT FUNCTION IS THE TIME INTERVAL TO PREDICT\n",
    "    forecast = model.predict(test[['ds']])\n",
    "    \n",
    "    #FORECAST PREVIEW. 'ds' IS THE DAILY INDEX, 'yhat' IS THE FORECAST, 'yhat_lower' and 'yhat_upper' ARE THE\n",
    "    #LOWER AND UPPER BOUND OF THE FORECASTED VALUE RESPECTIVELY.\n",
    "    print(forecast[['ds', 'yhat', 'yhat_lower', 'yhat_upper']].head())\n",
    "    print(test.reset_index(drop=True).head())\n",
    "    \n",
    "    #COMPUTE RMSE OF THE FORECASTED AND ACTUAL VALUE\n",
    "    rmse = math.sqrt(mean_squared_error(test[['y']], forecast[['yhat']]))\n",
    "    mse = mean_squared_error(test[['y']], forecast[['yhat']])\n",
    "    mae = mean_absolute_error(test[['y']], forecast[['yhat']])\n",
    "    \n",
    "    print(\"FB Prophet RMSE for Athens[\" + col + \"]: \" + str(rmse) + \"\\n\")\n",
    "    print(\"FB Prophet MSE for Athens[\" + col + \"]: \" + str(mse) + \"\\n\")\n",
    "    print(\"FB Prophet MAE for Athens[\" + col + \"]: \" + str(mae) + \"\\n\")\n",
    "\n",
    "    return test, forecast, rmse"
   ]
  },
  {
   "cell_type": "code",
   "execution_count": 33,
   "metadata": {
    "scrolled": false
   },
   "outputs": [
    {
     "name": "stderr",
     "output_type": "stream",
     "text": [
      "INFO:fbprophet:Disabling daily seasonality. Run prophet with daily_seasonality=True to override this.\n",
      "INFO:fbprophet:Disabling daily seasonality. Run prophet with daily_seasonality=True to override this.\n"
     ]
    },
    {
     "name": "stdout",
     "output_type": "stream",
     "text": [
      "          ds      yhat  yhat_lower  yhat_upper\n",
      "0 2022-01-01  0.019042   -0.102151    0.154818\n",
      "1 2022-01-02  0.032278   -0.103586    0.164359\n",
      "2 2022-01-03 -0.041402   -0.176195    0.084627\n",
      "3 2022-01-04  0.024674   -0.114109    0.158289\n",
      "4 2022-01-05  0.001809   -0.133258    0.124186\n",
      "          ds         y\n",
      "0 2022-01-01 -0.025048\n",
      "1 2022-01-02  0.025048\n",
      "2 2022-01-03 -0.086705\n",
      "3 2022-01-04  0.007707\n",
      "4 2022-01-05  0.023121\n",
      "FB Prophet RMSE for Athens[o3]: 0.08872714335120163\n",
      "\n",
      "FB Prophet MSE for Athens[o3]: 0.007872505967264683\n",
      "\n",
      "FB Prophet MAE for Athens[o3]: 0.0633491214286754\n",
      "\n"
     ]
    },
    {
     "name": "stderr",
     "output_type": "stream",
     "text": [
      "INFO:fbprophet:Disabling daily seasonality. Run prophet with daily_seasonality=True to override this.\n"
     ]
    },
    {
     "name": "stdout",
     "output_type": "stream",
     "text": [
      "          ds      yhat  yhat_lower  yhat_upper\n",
      "0 2022-01-01  0.258724    0.070010    0.443696\n",
      "1 2022-01-02  0.173422   -0.024563    0.355565\n",
      "2 2022-01-03  0.281028    0.069335    0.474793\n",
      "3 2022-01-04  0.257073    0.060377    0.472754\n",
      "4 2022-01-05  0.268405    0.071889    0.470138\n",
      "          ds         y\n",
      "0 2022-01-01  0.371747\n",
      "1 2022-01-02  0.390335\n",
      "2 2022-01-03  0.390335\n",
      "3 2022-01-04  0.542751\n",
      "4 2022-01-05  0.457249\n",
      "FB Prophet RMSE for Athens[no2]: 0.17956375436287084\n",
      "\n",
      "FB Prophet MSE for Athens[no2]: 0.03224314188088941\n",
      "\n",
      "FB Prophet MAE for Athens[no2]: 0.14931931141316923\n",
      "\n"
     ]
    },
    {
     "name": "stderr",
     "output_type": "stream",
     "text": [
      "INFO:fbprophet:Disabling daily seasonality. Run prophet with daily_seasonality=True to override this.\n"
     ]
    },
    {
     "name": "stdout",
     "output_type": "stream",
     "text": [
      "          ds      yhat  yhat_lower  yhat_upper\n",
      "0 2022-01-01  0.190860    0.080272    0.305004\n",
      "1 2022-01-02  0.186756    0.067862    0.303461\n",
      "2 2022-01-03  0.205011    0.085878    0.329611\n",
      "3 2022-01-04  0.213668    0.100008    0.323477\n",
      "4 2022-01-05  0.228052    0.109735    0.344159\n",
      "          ds         y\n",
      "0 2022-01-01  0.277778\n",
      "1 2022-01-02  0.238095\n",
      "2 2022-01-03  0.357143\n",
      "3 2022-01-04  0.357143\n",
      "4 2022-01-05  0.277778\n",
      "FB Prophet RMSE for Athens[so2]: 0.2601037654632151\n",
      "\n",
      "FB Prophet MSE for Athens[so2]: 0.06765396880814323\n",
      "\n",
      "FB Prophet MAE for Athens[so2]: 0.18102444746684235\n",
      "\n"
     ]
    },
    {
     "name": "stderr",
     "output_type": "stream",
     "text": [
      "INFO:fbprophet:Disabling daily seasonality. Run prophet with daily_seasonality=True to override this.\n"
     ]
    },
    {
     "name": "stdout",
     "output_type": "stream",
     "text": [
      "          ds      yhat  yhat_lower  yhat_upper\n",
      "0 2022-01-01  0.357631    0.168898    0.548657\n",
      "1 2022-01-02  0.352460    0.151980    0.540742\n",
      "2 2022-01-03  0.361046    0.162866    0.554237\n",
      "3 2022-01-04  0.356808    0.164690    0.534746\n",
      "4 2022-01-05  0.363930    0.194395    0.565263\n",
      "          ds         y\n",
      "0 2022-01-01  0.327869\n",
      "1 2022-01-02  0.983607\n",
      "2 2022-01-03  0.311475\n",
      "3 2022-01-04  0.377049\n",
      "4 2022-01-05  0.311475\n",
      "FB Prophet RMSE for Athens[pm10]: 0.1506783571630481\n",
      "\n",
      "FB Prophet MSE for Athens[pm10]: 0.022703967317355085\n",
      "\n",
      "FB Prophet MAE for Athens[pm10]: 0.11878638608831715\n",
      "\n",
      "          ds      yhat  yhat_lower  yhat_upper\n",
      "0 2022-01-01  0.366194    0.218700    0.529783\n",
      "1 2022-01-02  0.377968    0.228885    0.534914\n",
      "2 2022-01-03  0.365926    0.223723    0.524590\n",
      "3 2022-01-04  0.355070    0.187682    0.513749\n",
      "4 2022-01-05  0.367035    0.218219    0.524784\n",
      "          ds         y\n",
      "0 2022-01-01  0.457143\n",
      "1 2022-01-02  1.000000\n",
      "2 2022-01-03  0.419048\n",
      "3 2022-01-04  0.400000\n",
      "4 2022-01-05  0.400000\n",
      "FB Prophet RMSE for Athens[pm25]: 0.12650840292472074\n",
      "\n",
      "FB Prophet MSE for Athens[pm25]: 0.01600437601056349\n",
      "\n",
      "FB Prophet MAE for Athens[pm25]: 0.09280579530217987\n",
      "\n"
     ]
    }
   ],
   "source": [
    "pollutants = ['o3', 'no2', 'so2', 'pm10', 'pm25']\n",
    "\n",
    "i=0\n",
    "\n",
    "#EVALUATE MODEL FOR EVERY POLLUTANT\n",
    "for data in datasets:\n",
    "    test, forecast, error = fbprophet_predict_seasonal(data, pollutants[i])\n",
    "    \n",
    "    i = i+1"
   ]
  },
  {
   "cell_type": "markdown",
   "metadata": {},
   "source": [
    "## Weekly predictions"
   ]
  },
  {
   "cell_type": "code",
   "execution_count": 9,
   "metadata": {},
   "outputs": [],
   "source": [
    "Athens_Data_uni.index = Athens_Data_uni['ds']\n",
    "Athens_Data_uni = Athens_Data_uni.drop(['ds'],axis=1)\n",
    "\n",
    "Athens_Data_uni.index = pd.to_datetime(Athens_Data_uni.index)\n",
    "Athens_weekly = Athens_Data_uni.resample(\"1w\").mean().bfill()\n",
    "\n",
    "Athens_weekly['ds'] = Athens_weekly.index"
   ]
  },
  {
   "cell_type": "code",
   "execution_count": 14,
   "metadata": {},
   "outputs": [],
   "source": [
    "Athens_o3 = Athens_weekly[['ds', 'o3']]\n",
    "Athens_o3.rename(columns = {'o3':'y'}, inplace = True)\n",
    "\n",
    "Athens_no2 = Athens_weekly[['ds', 'no2']]\n",
    "Athens_no2.rename(columns = {'no2':'y'}, inplace = True)\n",
    "\n",
    "Athens_so2 = Athens_weekly[['ds', 'so2']]\n",
    "Athens_so2.rename(columns = {'so2':'y'}, inplace = True)\n",
    "\n",
    "Athens_pm10 = Athens_weekly[['ds', 'pm10']]\n",
    "Athens_pm10.rename(columns = {'pm10':'y'}, inplace = True)\n",
    "\n",
    "Athens_pm25 = Athens_weekly[['ds', 'pm25']]\n",
    "Athens_pm25.rename(columns = {'pm25':'y'}, inplace = True)\n",
    "\n",
    "datasets = [Athens_o3, Athens_no2, Athens_so2, Athens_pm10, Athens_pm25]"
   ]
  },
  {
   "cell_type": "code",
   "execution_count": 16,
   "metadata": {
    "scrolled": false
   },
   "outputs": [
    {
     "name": "stderr",
     "output_type": "stream",
     "text": [
      "INFO:fbprophet:Disabling yearly seasonality. Run prophet with yearly_seasonality=True to override this.\n",
      "INFO:fbprophet:Disabling weekly seasonality. Run prophet with weekly_seasonality=True to override this.\n",
      "INFO:fbprophet:Disabling daily seasonality. Run prophet with daily_seasonality=True to override this.\n",
      "INFO:fbprophet:Disabling yearly seasonality. Run prophet with yearly_seasonality=True to override this.\n",
      "INFO:fbprophet:Disabling weekly seasonality. Run prophet with weekly_seasonality=True to override this.\n",
      "INFO:fbprophet:Disabling daily seasonality. Run prophet with daily_seasonality=True to override this.\n"
     ]
    },
    {
     "name": "stdout",
     "output_type": "stream",
     "text": [
      "          ds      yhat  yhat_lower  yhat_upper\n",
      "0 2021-10-03  0.642692    0.445673    0.803835\n",
      "1 2021-10-10  0.645333    0.454585    0.839380\n",
      "2 2021-10-17  0.647974    0.461168    0.834738\n",
      "3 2021-10-24  0.650615    0.473449    0.828031\n",
      "4 2021-10-31  0.653257    0.470406    0.837163\n",
      "          ds         y\n",
      "0 2021-10-03  0.617947\n",
      "1 2021-10-10  0.549775\n",
      "2 2021-10-17  0.549775\n",
      "3 2021-10-24  0.549775\n",
      "4 2021-10-31  0.549775\n",
      "FB Prophet RMSE for Athens[o3]: 0.2594474582465087\n",
      "\n",
      "FB Prophet MSE for Athens[o3]: 0.06731298359057387\n",
      "\n",
      "FB Prophet MAE for Athens[o3]: 0.24001408577544545\n",
      "\n"
     ]
    },
    {
     "name": "stderr",
     "output_type": "stream",
     "text": [
      "INFO:fbprophet:Disabling yearly seasonality. Run prophet with yearly_seasonality=True to override this.\n",
      "INFO:fbprophet:Disabling weekly seasonality. Run prophet with weekly_seasonality=True to override this.\n",
      "INFO:fbprophet:Disabling daily seasonality. Run prophet with daily_seasonality=True to override this.\n"
     ]
    },
    {
     "name": "stdout",
     "output_type": "stream",
     "text": [
      "          ds      yhat  yhat_lower  yhat_upper\n",
      "0 2021-10-03  0.280281    0.147675    0.427254\n",
      "1 2021-10-10  0.279448    0.134191    0.417768\n",
      "2 2021-10-17  0.278616    0.136199    0.419388\n",
      "3 2021-10-24  0.277783    0.138415    0.416656\n",
      "4 2021-10-31  0.276950    0.136902    0.418175\n",
      "          ds         y\n",
      "0 2021-10-03  0.319172\n",
      "1 2021-10-10  0.106568\n",
      "2 2021-10-17  0.106568\n",
      "3 2021-10-24  0.106568\n",
      "4 2021-10-31  0.106568\n",
      "FB Prophet RMSE for Athens[no2]: 0.1451023231385573\n",
      "\n",
      "FB Prophet MSE for Athens[no2]: 0.021054684180206305\n",
      "\n",
      "FB Prophet MAE for Athens[no2]: 0.12344911792753066\n",
      "\n"
     ]
    },
    {
     "name": "stderr",
     "output_type": "stream",
     "text": [
      "INFO:fbprophet:Disabling yearly seasonality. Run prophet with yearly_seasonality=True to override this.\n",
      "INFO:fbprophet:Disabling weekly seasonality. Run prophet with weekly_seasonality=True to override this.\n",
      "INFO:fbprophet:Disabling daily seasonality. Run prophet with daily_seasonality=True to override this.\n"
     ]
    },
    {
     "name": "stdout",
     "output_type": "stream",
     "text": [
      "          ds      yhat  yhat_lower  yhat_upper\n",
      "0 2021-10-03  0.258915    0.136926    0.363308\n",
      "1 2021-10-10  0.259518    0.132717    0.364568\n",
      "2 2021-10-17  0.260121    0.146740    0.373797\n",
      "3 2021-10-24  0.260723    0.149339    0.381029\n",
      "4 2021-10-31  0.261326    0.143654    0.374284\n",
      "          ds         y\n",
      "0 2021-10-03  0.221088\n",
      "1 2021-10-10  0.211640\n",
      "2 2021-10-17  0.211640\n",
      "3 2021-10-24  0.211640\n",
      "4 2021-10-31  0.211640\n",
      "FB Prophet RMSE for Athens[so2]: 0.1478233638698948\n",
      "\n",
      "FB Prophet MSE for Athens[so2]: 0.021851746905811324\n",
      "\n",
      "FB Prophet MAE for Athens[so2]: 0.10513650059255748\n",
      "\n"
     ]
    },
    {
     "name": "stderr",
     "output_type": "stream",
     "text": [
      "INFO:fbprophet:Disabling yearly seasonality. Run prophet with yearly_seasonality=True to override this.\n",
      "INFO:fbprophet:Disabling weekly seasonality. Run prophet with weekly_seasonality=True to override this.\n",
      "INFO:fbprophet:Disabling daily seasonality. Run prophet with daily_seasonality=True to override this.\n"
     ]
    },
    {
     "name": "stdout",
     "output_type": "stream",
     "text": [
      "          ds      yhat  yhat_lower  yhat_upper\n",
      "0 2021-10-03  0.355341    0.217943    0.495823\n",
      "1 2021-10-10  0.356511    0.212117    0.490199\n",
      "2 2021-10-17  0.357682    0.220315    0.490269\n",
      "3 2021-10-24  0.358852    0.224651    0.490140\n",
      "4 2021-10-31  0.360023    0.224502    0.502336\n",
      "          ds         y\n",
      "0 2021-10-03  0.283372\n",
      "1 2021-10-10  0.273224\n",
      "2 2021-10-17  0.273224\n",
      "3 2021-10-24  0.273224\n",
      "4 2021-10-31  0.273224\n",
      "FB Prophet RMSE for Athens[pm10]: 0.099020291691642\n",
      "\n",
      "FB Prophet MSE for Athens[pm10]: 0.009805018166697866\n",
      "\n",
      "FB Prophet MAE for Athens[pm10]: 0.08543674825272332\n",
      "\n",
      "          ds      yhat  yhat_lower  yhat_upper\n",
      "0 2021-10-03  0.350201    0.239253    0.463943\n",
      "1 2021-10-10  0.350652    0.234568    0.462474\n",
      "2 2021-10-17  0.351102    0.237798    0.456152\n",
      "3 2021-10-24  0.351552    0.248502    0.461002\n",
      "4 2021-10-31  0.352003    0.242428    0.464931\n",
      "          ds         y\n",
      "0 2021-10-03  0.288435\n",
      "1 2021-10-10  0.339683\n",
      "2 2021-10-17  0.339683\n",
      "3 2021-10-24  0.339683\n",
      "4 2021-10-31  0.339683\n",
      "FB Prophet RMSE for Athens[pm25]: 0.06314880753725949\n",
      "\n",
      "FB Prophet MSE for Athens[pm25]: 0.003987771893377841\n",
      "\n",
      "FB Prophet MAE for Athens[pm25]: 0.05152497321744706\n",
      "\n"
     ]
    }
   ],
   "source": [
    "pollutants = ['o3', 'no2', 'so2', 'pm10', 'pm25']\n",
    "\n",
    "i=0\n",
    "\n",
    "#EVALUATE MODEL FOR EVERY POLLUTANT\n",
    "for data in datasets:\n",
    "    test, forecast, error = fbprophet_predict(data, pollutants[i])\n",
    "    \n",
    "    i = i+1"
   ]
  },
  {
   "cell_type": "markdown",
   "metadata": {},
   "source": [
    "## Monthly predictions"
   ]
  },
  {
   "cell_type": "code",
   "execution_count": 18,
   "metadata": {},
   "outputs": [],
   "source": [
    "Athens_Data_uni.index = Athens_Data_uni['ds']\n",
    "Athens_Data_uni = Athens_Data_uni.drop(['ds'],axis=1)\n",
    "\n",
    "Athens_Data_uni.index = pd.to_datetime(Athens_Data_uni.index)\n",
    "Athens_monthly = Athens_Data_uni.resample(\"1m\").mean().bfill()\n",
    "\n",
    "Athens_monthly['ds'] = Athens_monthly.index"
   ]
  },
  {
   "cell_type": "code",
   "execution_count": 19,
   "metadata": {},
   "outputs": [],
   "source": [
    "Athens_o3 = Athens_monthly[['ds', 'o3']]\n",
    "Athens_o3.rename(columns = {'o3':'y'}, inplace = True)\n",
    "\n",
    "Athens_no2 = Athens_monthly[['ds', 'no2']]\n",
    "Athens_no2.rename(columns = {'no2':'y'}, inplace = True)\n",
    "\n",
    "Athens_so2 = Athens_monthly[['ds', 'so2']]\n",
    "Athens_so2.rename(columns = {'so2':'y'}, inplace = True)\n",
    "\n",
    "Athens_pm10 = Athens_monthly[['ds', 'pm10']]\n",
    "Athens_pm10.rename(columns = {'pm10':'y'}, inplace = True)\n",
    "\n",
    "Athens_pm25 = Athens_monthly[['ds', 'pm25']]\n",
    "Athens_pm25.rename(columns = {'pm25':'y'}, inplace = True)\n",
    "\n",
    "datasets = [Athens_o3, Athens_no2, Athens_so2, Athens_pm10, Athens_pm25]"
   ]
  },
  {
   "cell_type": "code",
   "execution_count": 20,
   "metadata": {
    "scrolled": false
   },
   "outputs": [
    {
     "name": "stderr",
     "output_type": "stream",
     "text": [
      "INFO:fbprophet:Disabling yearly seasonality. Run prophet with yearly_seasonality=True to override this.\n",
      "INFO:fbprophet:Disabling weekly seasonality. Run prophet with weekly_seasonality=True to override this.\n",
      "INFO:fbprophet:Disabling daily seasonality. Run prophet with daily_seasonality=True to override this.\n",
      "INFO:fbprophet:n_changepoints greater than number of observations. Using 17.\n",
      "INFO:fbprophet:Disabling yearly seasonality. Run prophet with yearly_seasonality=True to override this.\n",
      "INFO:fbprophet:Disabling weekly seasonality. Run prophet with weekly_seasonality=True to override this.\n",
      "INFO:fbprophet:Disabling daily seasonality. Run prophet with daily_seasonality=True to override this.\n",
      "INFO:fbprophet:n_changepoints greater than number of observations. Using 17.\n"
     ]
    },
    {
     "name": "stdout",
     "output_type": "stream",
     "text": [
      "          ds      yhat  yhat_lower  yhat_upper\n",
      "0 2021-10-31  0.645920    0.479668    0.815957\n",
      "1 2021-11-30  0.657046    0.487800    0.825614\n",
      "2 2021-12-31  0.668544    0.493721    0.832765\n",
      "3 2022-01-31  0.680041    0.518126    0.853923\n",
      "4 2022-02-28  0.690426    0.520171    0.857108\n",
      "          ds         y\n",
      "0 2021-10-31  0.572254\n",
      "1 2021-11-30  0.370841\n",
      "2 2021-12-31  0.351545\n",
      "3 2022-01-31  0.371807\n",
      "4 2022-02-28  0.436072\n",
      "FB Prophet RMSE for Athens[o3]: 0.25131108765679233\n",
      "\n",
      "FB Prophet MSE for Athens[o3]: 0.06315726277923996\n",
      "\n",
      "FB Prophet MAE for Athens[o3]: 0.23611478258041255\n",
      "\n"
     ]
    },
    {
     "name": "stderr",
     "output_type": "stream",
     "text": [
      "INFO:fbprophet:Disabling yearly seasonality. Run prophet with yearly_seasonality=True to override this.\n",
      "INFO:fbprophet:Disabling weekly seasonality. Run prophet with weekly_seasonality=True to override this.\n",
      "INFO:fbprophet:Disabling daily seasonality. Run prophet with daily_seasonality=True to override this.\n",
      "INFO:fbprophet:n_changepoints greater than number of observations. Using 17.\n"
     ]
    },
    {
     "name": "stdout",
     "output_type": "stream",
     "text": [
      "          ds      yhat  yhat_lower  yhat_upper\n",
      "0 2021-10-31  0.284147    0.198661    0.364354\n",
      "1 2021-11-30  0.280976    0.203357    0.359089\n",
      "2 2021-12-31  0.277700    0.197597    0.358696\n",
      "3 2022-01-31  0.274423    0.192111    0.354771\n",
      "4 2022-02-28  0.271464    0.189594    0.350731\n",
      "          ds         y\n",
      "0 2021-10-31  0.126394\n",
      "1 2021-11-30  0.420818\n",
      "2 2021-12-31  0.367910\n",
      "3 2022-01-31  0.400648\n",
      "4 2022-02-28  0.414100\n",
      "FB Prophet RMSE for Athens[no2]: 0.12171389101541691\n",
      "\n",
      "FB Prophet MSE for Athens[no2]: 0.014814271266112783\n",
      "\n",
      "FB Prophet MAE for Athens[no2]: 0.11033418686558243\n",
      "\n"
     ]
    },
    {
     "name": "stderr",
     "output_type": "stream",
     "text": [
      "INFO:fbprophet:Disabling yearly seasonality. Run prophet with yearly_seasonality=True to override this.\n",
      "INFO:fbprophet:Disabling weekly seasonality. Run prophet with weekly_seasonality=True to override this.\n",
      "INFO:fbprophet:Disabling daily seasonality. Run prophet with daily_seasonality=True to override this.\n",
      "INFO:fbprophet:n_changepoints greater than number of observations. Using 17.\n"
     ]
    },
    {
     "name": "stdout",
     "output_type": "stream",
     "text": [
      "          ds      yhat  yhat_lower  yhat_upper\n",
      "0 2021-10-31  0.259817    0.158882    0.363924\n",
      "1 2021-11-30  0.262445    0.163919    0.360820\n",
      "2 2021-12-31  0.265160    0.166417    0.371688\n",
      "3 2022-01-31  0.267875    0.166554    0.364365\n",
      "4 2022-02-28  0.270328    0.171508    0.367326\n",
      "          ds         y\n",
      "0 2021-10-31  0.218254\n",
      "1 2021-11-30  0.186508\n",
      "2 2021-12-31  0.160010\n",
      "3 2022-01-31  0.476446\n",
      "4 2022-02-28  0.162982\n",
      "FB Prophet RMSE for Athens[so2]: 0.12449972360462801\n",
      "\n",
      "FB Prophet MSE for Athens[so2]: 0.01550018117762877\n",
      "\n",
      "FB Prophet MAE for Athens[so2]: 0.11299052869365594\n",
      "\n"
     ]
    },
    {
     "name": "stderr",
     "output_type": "stream",
     "text": [
      "INFO:fbprophet:Disabling yearly seasonality. Run prophet with yearly_seasonality=True to override this.\n",
      "INFO:fbprophet:Disabling weekly seasonality. Run prophet with weekly_seasonality=True to override this.\n",
      "INFO:fbprophet:Disabling daily seasonality. Run prophet with daily_seasonality=True to override this.\n",
      "INFO:fbprophet:n_changepoints greater than number of observations. Using 17.\n"
     ]
    },
    {
     "name": "stdout",
     "output_type": "stream",
     "text": [
      "          ds      yhat  yhat_lower  yhat_upper\n",
      "0 2021-10-31  0.358222    0.288730    0.426862\n",
      "1 2021-11-30  0.363240    0.295720    0.430857\n",
      "2 2021-12-31  0.368425    0.301701    0.431668\n",
      "3 2022-01-31  0.373610    0.301618    0.438778\n",
      "4 2022-02-28  0.378293    0.306830    0.441152\n",
      "          ds         y\n",
      "0 2021-10-31  0.254098\n",
      "1 2021-11-30  0.400546\n",
      "2 2021-12-31  0.270756\n",
      "3 2022-01-31  0.297726\n",
      "4 2022-02-28  0.323185\n",
      "FB Prophet RMSE for Athens[pm10]: 0.0874522921497539\n",
      "\n",
      "FB Prophet MSE for Athens[pm10]: 0.007647903402245909\n",
      "\n",
      "FB Prophet MAE for Athens[pm10]: 0.08231047377006005\n",
      "\n",
      "          ds      yhat  yhat_lower  yhat_upper\n",
      "0 2021-10-31  0.347897    0.279191    0.416474\n",
      "1 2021-11-30  0.349363    0.289081    0.412818\n",
      "2 2021-12-31  0.350878    0.282360    0.419480\n",
      "3 2022-01-31  0.352394    0.282185    0.418693\n",
      "4 2022-02-28  0.353762    0.285282    0.420466\n",
      "          ds         y\n",
      "0 2021-10-31  0.276190\n",
      "1 2021-11-30  0.417778\n",
      "2 2021-12-31  0.316743\n",
      "3 2022-01-31  0.381260\n",
      "4 2022-02-28  0.368707\n",
      "FB Prophet RMSE for Athens[pm25]: 0.04504537386613386\n",
      "\n",
      "FB Prophet MSE for Athens[pm25]: 0.002029085706739775\n",
      "\n",
      "FB Prophet MAE for Athens[pm25]: 0.03824747861162787\n",
      "\n"
     ]
    }
   ],
   "source": [
    "pollutants = ['o3', 'no2', 'so2', 'pm10', 'pm25']\n",
    "\n",
    "i=0\n",
    "\n",
    "#EVALUATE MODEL FOR EVERY POLLUTANT\n",
    "for data in datasets:\n",
    "    test, forecast, error = fbprophet_predict(data, pollutants[i])\n",
    "    \n",
    "    i = i+1"
   ]
  }
 ],
 "metadata": {
  "kernelspec": {
   "display_name": "Python 3 (ipykernel)",
   "language": "python",
   "name": "python3"
  },
  "language_info": {
   "codemirror_mode": {
    "name": "ipython",
    "version": 3
   },
   "file_extension": ".py",
   "mimetype": "text/x-python",
   "name": "python",
   "nbconvert_exporter": "python",
   "pygments_lexer": "ipython3",
   "version": "3.8.5"
  },
  "latex_envs": {
   "LaTeX_envs_menu_present": true,
   "autoclose": false,
   "autocomplete": true,
   "bibliofile": "biblio.bib",
   "cite_by": "apalike",
   "current_citInitial": 1,
   "eqLabelWithNumbers": true,
   "eqNumInitial": 1,
   "hotkeys": {
    "equation": "Ctrl-E",
    "itemize": "Ctrl-I"
   },
   "labels_anchors": false,
   "latex_user_defs": false,
   "report_style_numbering": false,
   "user_envs_cfg": false
  }
 },
 "nbformat": 4,
 "nbformat_minor": 4
}
